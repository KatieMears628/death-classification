{
  "cells": [
    {
      "cell_type": "markdown",
      "metadata": {
        "id": "view-in-github",
        "colab_type": "text"
      },
      "source": [
        "<a href=\"https://colab.research.google.com/github/KatieMears628/death-classification/blob/main/Copy_of_4Final_Project_Working_Document.ipynb\" target=\"_parent\"><img src=\"https://colab.research.google.com/assets/colab-badge.svg\" alt=\"Open In Colab\"/></a>"
      ]
    },
    {
      "cell_type": "markdown",
      "metadata": {
        "id": "AdYdJSkUQ5C4"
      },
      "source": [
        "# **ADS 502 Final Project - Death Classification**\n",
        "### Team 5 - Katie Mears, Marvin Moran, Claire Bentzen"
      ]
    },
    {
      "cell_type": "markdown",
      "source": [
        "## 1. Introduction"
      ],
      "metadata": {
        "id": "LB7ubuyJFPNh"
      }
    },
    {
      "cell_type": "markdown",
      "metadata": {
        "id": "dwgWoFskv37f"
      },
      "source": [
        "##### Load Packages"
      ]
    },
    {
      "cell_type": "code",
      "execution_count": 6,
      "metadata": {
        "id": "j1UdUrQT8ZKd"
      },
      "outputs": [],
      "source": [
        "import pandas as pd\n",
        "from sklearn.model_selection import train_test_split\n",
        "import seaborn as sns\n",
        "import matplotlib.pyplot as plt\n",
        "import statsmodels.api as sm\n",
        "import random\n",
        "import numpy as np\n",
        "from sklearn.preprocessing import MinMaxScaler\n",
        "# !pip install prince\n",
        "import prince\n",
        "from scipy.stats import chi2_contingency\n",
        "import networkx as nx\n",
        "from tensorflow import keras\n",
        "from tensorflow.keras import layers\n",
        "from tensorflow.keras.utils import plot_model\n",
        "from tensorflow.keras.layers import Dropout\n",
        "import tensorflow as tf\n",
        "from sklearn.metrics import precision_score\n",
        "from sklearn.metrics import recall_score\n",
        "from sklearn.metrics import f1_score\n",
        "from sklearn.metrics import roc_auc_score, roc_curve\n"
      ]
    },
    {
      "cell_type": "code",
      "source": [
        "import warnings\n",
        "warnings.filterwarnings('ignore')"
      ],
      "metadata": {
        "id": "KfmvbgvlMPJn"
      },
      "execution_count": 7,
      "outputs": []
    },
    {
      "cell_type": "markdown",
      "source": [
        "##### Read and Examine Dataset"
      ],
      "metadata": {
        "id": "5NoWPkaNGS4H"
      }
    },
    {
      "cell_type": "code",
      "execution_count": 8,
      "metadata": {
        "colab": {
          "base_uri": "https://localhost:8080/"
        },
        "id": "czairqpF9QFY",
        "outputId": "76eb7139-defa-47f1-f57d-f140a7f215ec"
      },
      "outputs": [
        {
          "output_type": "stream",
          "name": "stdout",
          "text": [
            "   resident_status  education_1989_revision  education_2003_revision  \\\n",
            "0                1                      NaN                      3.0   \n",
            "1                1                      NaN                      6.0   \n",
            "2                1                      NaN                      3.0   \n",
            "3                1                      NaN                      3.0   \n",
            "4                1                      NaN                      5.0   \n",
            "\n",
            "   education_reporting_flag  month_of_death sex  detail_age_type  detail_age  \\\n",
            "0                         1               1   M                1          84   \n",
            "1                         1               1   M                1          70   \n",
            "2                         1               1   F                1          91   \n",
            "3                         1               1   F                1          40   \n",
            "4                         1               1   F                1          89   \n",
            "\n",
            "   age_substitution_flag  age_recode_52  ...  record_condition_18  \\\n",
            "0                    NaN             42  ...                  NaN   \n",
            "1                    NaN             40  ...                  NaN   \n",
            "2                    NaN             44  ...                  NaN   \n",
            "3                    NaN             34  ...                  NaN   \n",
            "4                    NaN             43  ...                  NaN   \n",
            "\n",
            "   record_condition_19  record_condition_20  race bridged_race_flag  \\\n",
            "0                  NaN                  NaN   1.0               NaN   \n",
            "1                  NaN                  NaN   1.0               NaN   \n",
            "2                  NaN                  NaN   1.0               NaN   \n",
            "3                  NaN                  NaN   3.0               NaN   \n",
            "4                  NaN                  NaN   1.0               NaN   \n",
            "\n",
            "   race_imputation_flag  race_recode_3 race_recode_5  hispanic_origin  \\\n",
            "0                   NaN            1.0           1.0            100.0   \n",
            "1                   NaN            1.0           1.0            100.0   \n",
            "2                   NaN            1.0           1.0            100.0   \n",
            "3                   NaN            2.0           3.0            100.0   \n",
            "4                   NaN            1.0           1.0            100.0   \n",
            "\n",
            "  hispanic_originrace_recode  \n",
            "0                        6.0  \n",
            "1                        6.0  \n",
            "2                        6.0  \n",
            "3                        8.0  \n",
            "4                        6.0  \n",
            "\n",
            "[5 rows x 77 columns]\n"
          ]
        }
      ],
      "source": [
        "# Read in 2015_data.csv\n",
        "death_data = pd.read_csv('/content/2015_data.csv')\n",
        "\n",
        "# Display the first few rows of the data\n",
        "print(death_data.head())"
      ]
    },
    {
      "cell_type": "code",
      "source": [
        "# Print shape of data\n",
        "death_data.shape"
      ],
      "metadata": {
        "colab": {
          "base_uri": "https://localhost:8080/"
        },
        "id": "Cy9WpNo-HJss",
        "outputId": "9791790f-6b80-4f03-f562-6d282bfae890"
      },
      "execution_count": 9,
      "outputs": [
        {
          "output_type": "execute_result",
          "data": {
            "text/plain": [
              "(27477, 77)"
            ]
          },
          "metadata": {},
          "execution_count": 9
        }
      ]
    },
    {
      "cell_type": "code",
      "execution_count": 10,
      "metadata": {
        "colab": {
          "base_uri": "https://localhost:8080/"
        },
        "id": "OCf2o9Yh9QOB",
        "outputId": "1cbded05-5e54-4f45-a6de-1b02e3c9e5f8"
      },
      "outputs": [
        {
          "output_type": "stream",
          "name": "stdout",
          "text": [
            "Index(['resident_status', 'education_1989_revision', 'education_2003_revision',\n",
            "       'education_reporting_flag', 'month_of_death', 'sex', 'detail_age_type',\n",
            "       'detail_age', 'age_substitution_flag', 'age_recode_52', 'age_recode_27',\n",
            "       'age_recode_12', 'infant_age_recode_22',\n",
            "       'place_of_death_and_decedents_status', 'marital_status',\n",
            "       'day_of_week_of_death', 'current_data_year', 'injury_at_work',\n",
            "       'manner_of_death', 'method_of_disposition', 'autopsy', 'activity_code',\n",
            "       'place_of_injury_for_causes_w00_y34_except_y06_and_y07_',\n",
            "       'icd_code_10th_revision', '358_cause_recode', '113_cause_recode',\n",
            "       '130_infant_cause_recode', '39_cause_recode',\n",
            "       'number_of_entity_axis_conditions', 'entity_condition_1',\n",
            "       'entity_condition_2', 'entity_condition_3', 'entity_condition_4',\n",
            "       'entity_condition_5', 'entity_condition_6', 'entity_condition_7',\n",
            "       'entity_condition_8', 'entity_condition_9', 'entity_condition_10',\n",
            "       'entity_condition_11', 'entity_condition_12', 'entity_condition_13',\n",
            "       'entity_condition_14', 'entity_condition_15', 'entity_condition_16',\n",
            "       'entity_condition_17', 'entity_condition_18', 'entity_condition_19',\n",
            "       'entity_condition_20', 'number_of_record_axis_conditions',\n",
            "       'record_condition_1', 'record_condition_2', 'record_condition_3',\n",
            "       'record_condition_4', 'record_condition_5', 'record_condition_6',\n",
            "       'record_condition_7', 'record_condition_8', 'record_condition_9',\n",
            "       'record_condition_10', 'record_condition_11', 'record_condition_12',\n",
            "       'record_condition_13', 'record_condition_14', 'record_condition_15',\n",
            "       'record_condition_16', 'record_condition_17', 'record_condition_18',\n",
            "       'record_condition_19', 'record_condition_20', 'race',\n",
            "       'bridged_race_flag', 'race_imputation_flag', 'race_recode_3',\n",
            "       'race_recode_5', 'hispanic_origin', 'hispanic_originrace_recode'],\n",
            "      dtype='object')\n"
          ]
        }
      ],
      "source": [
        "# Print Column Titles in Original Data Set\n",
        "column_titles = death_data.columns\n",
        "print(column_titles)"
      ]
    },
    {
      "cell_type": "code",
      "execution_count": 11,
      "metadata": {
        "id": "WbiaMIwB9Qd5"
      },
      "outputs": [],
      "source": [
        "# Isolate the Desired Columns\n",
        "desired_columns = ['education_2003_revision', 'month_of_death', 'sex', 'place_of_death_and_decedents_status',\n",
        "                   'marital_status', 'day_of_week_of_death', 'injury_at_work', 'manner_of_death', 'method_of_disposition',\n",
        "                   'autopsy', 'race','detail_age']\n",
        "new_death = death_data[desired_columns]\n",
        "\n",
        "# List of column names to convert to categorical\n",
        "categorical_columns = ['education_2003_revision', 'month_of_death', 'sex', 'place_of_death_and_decedents_status',\n",
        "                   'marital_status', 'day_of_week_of_death', 'injury_at_work', 'manner_of_death',\n",
        "                   'method_of_disposition', 'autopsy', 'race']\n",
        "\n",
        "# Convert the selected columns to categorical\n",
        "new_death[categorical_columns] = new_death[categorical_columns].astype('category')"
      ]
    },
    {
      "cell_type": "code",
      "execution_count": 12,
      "metadata": {
        "colab": {
          "base_uri": "https://localhost:8080/"
        },
        "id": "EXwZ76_h9QRm",
        "outputId": "a1127358-c4e9-4463-9841-d2fa45cc99c9"
      },
      "outputs": [
        {
          "output_type": "stream",
          "name": "stdout",
          "text": [
            "        education_2003_revision  month_of_death    sex  \\\n",
            "count                    4193.0         27477.0  27477   \n",
            "unique                      9.0            12.0      2   \n",
            "top                         3.0             1.0      M   \n",
            "freq                     1683.0          5230.0  14216   \n",
            "mean                        NaN             NaN    NaN   \n",
            "std                         NaN             NaN    NaN   \n",
            "min                         NaN             NaN    NaN   \n",
            "25%                         NaN             NaN    NaN   \n",
            "50%                         NaN             NaN    NaN   \n",
            "75%                         NaN             NaN    NaN   \n",
            "max                         NaN             NaN    NaN   \n",
            "\n",
            "        place_of_death_and_decedents_status marital_status  \\\n",
            "count                               27476.0          27476   \n",
            "unique                                  7.0              5   \n",
            "top                                     4.0              M   \n",
            "freq                                10312.0          10338   \n",
            "mean                                    NaN            NaN   \n",
            "std                                     NaN            NaN   \n",
            "min                                     NaN            NaN   \n",
            "25%                                     NaN            NaN   \n",
            "50%                                     NaN            NaN   \n",
            "75%                                     NaN            NaN   \n",
            "max                                     NaN            NaN   \n",
            "\n",
            "        day_of_week_of_death injury_at_work  manner_of_death  \\\n",
            "count                27476.0          27476          26321.0   \n",
            "unique                   7.0              3              6.0   \n",
            "top                      7.0              U              7.0   \n",
            "freq                  4045.0          25448          23997.0   \n",
            "mean                     NaN            NaN              NaN   \n",
            "std                      NaN            NaN              NaN   \n",
            "min                      NaN            NaN              NaN   \n",
            "25%                      NaN            NaN              NaN   \n",
            "50%                      NaN            NaN              NaN   \n",
            "75%                      NaN            NaN              NaN   \n",
            "max                      NaN            NaN              NaN   \n",
            "\n",
            "       method_of_disposition autopsy     race    detail_age  \n",
            "count                  27476   27476  27476.0  27477.000000  \n",
            "unique                     6       3     13.0           NaN  \n",
            "top                        U       N      1.0           NaN  \n",
            "freq                   23288   21188  21070.0           NaN  \n",
            "mean                     NaN     NaN      NaN     70.902209  \n",
            "std                      NaN     NaN      NaN     18.195890  \n",
            "min                      NaN     NaN      NaN      1.000000  \n",
            "25%                      NaN     NaN      NaN     61.000000  \n",
            "50%                      NaN     NaN      NaN     74.000000  \n",
            "75%                      NaN     NaN      NaN     85.000000  \n",
            "max                      NaN     NaN      NaN    111.000000  \n"
          ]
        }
      ],
      "source": [
        "# Data Description of original data set with selected columns (2015_data.csv)\n",
        "data_description_all = new_death.describe(include='all')\n",
        "print(data_description_all)"
      ]
    },
    {
      "cell_type": "markdown",
      "source": [
        "##### Convert response variable to only 2 categories"
      ],
      "metadata": {
        "id": "zMwSL8hcICrX"
      }
    },
    {
      "cell_type": "code",
      "execution_count": 13,
      "metadata": {
        "id": "YKXMz3Wtv37j"
      },
      "outputs": [],
      "source": [
        "# Convert manner_of_death to homicide or not homicide\n",
        "new_death['manner_of_death'] = new_death['manner_of_death'].replace([1, 2, 4, 5, 6, 7, None],0)\n",
        "new_death['manner_of_death'] = new_death['manner_of_death'].replace([3],1)"
      ]
    },
    {
      "cell_type": "markdown",
      "source": [
        "## 2. Exploratory Data Analysis"
      ],
      "metadata": {
        "id": "BHGCQhCwJ0v1"
      }
    },
    {
      "cell_type": "code",
      "execution_count": 14,
      "metadata": {
        "colab": {
          "base_uri": "https://localhost:8080/"
        },
        "id": "5qXxMEeEwmEP",
        "outputId": "3b528fe5-924e-4c88-d3b2-e2ae3492fa54"
      },
      "outputs": [
        {
          "output_type": "stream",
          "name": "stdout",
          "text": [
            "education_2003_revision                category\n",
            "month_of_death                         category\n",
            "sex                                    category\n",
            "place_of_death_and_decedents_status    category\n",
            "marital_status                         category\n",
            "day_of_week_of_death                   category\n",
            "injury_at_work                         category\n",
            "manner_of_death                        category\n",
            "method_of_disposition                  category\n",
            "autopsy                                category\n",
            "race                                   category\n",
            "detail_age                                int64\n",
            "dtype: object\n"
          ]
        }
      ],
      "source": [
        "# Get the data types for all columns\n",
        "data_types = new_death.dtypes\n",
        "\n",
        "print(data_types)"
      ]
    },
    {
      "cell_type": "markdown",
      "source": [
        "#### 2.1 Categorical Data Analysis"
      ],
      "metadata": {
        "id": "kkSQuvkQNGAj"
      }
    },
    {
      "cell_type": "markdown",
      "source": [
        "##### 2.1.1 education_2003_revision"
      ],
      "metadata": {
        "id": "LvHpjLDmRjM-"
      }
    },
    {
      "cell_type": "code",
      "execution_count": 15,
      "metadata": {
        "colab": {
          "base_uri": "https://localhost:8080/",
          "height": 731
        },
        "id": "EiSK_7Agv37l",
        "outputId": "83f17092-10fa-45b1-b0b5-5ded7e3221d1"
      },
      "outputs": [
        {
          "output_type": "stream",
          "name": "stdout",
          "text": [
            "education_2003_revision Frequency:\n",
            "3.0    1683\n",
            "4.0     669\n",
            "1.0     431\n",
            "2.0     409\n",
            "6.0     389\n",
            "5.0     270\n",
            "7.0     149\n",
            "9.0     139\n",
            "8.0      54\n",
            "Name: education_2003_revision, dtype: int64\n"
          ]
        },
        {
          "output_type": "execute_result",
          "data": {
            "text/plain": [
              "<Axes: xlabel='education_2003_revision'>"
            ]
          },
          "metadata": {},
          "execution_count": 15
        },
        {
          "output_type": "display_data",
          "data": {
            "text/plain": [
              "<Figure size 1200x500 with 3 Axes>"
            ],
            "image/png": "[encoded data removed]"
          },
          "metadata": {}
        }
      ],
      "source": [
        "# Value Counts\n",
        "education_counts = new_death['education_2003_revision'].value_counts()\n",
        "print(\"education_2003_revision Frequency:\")\n",
        "print(education_counts)\n",
        "\n",
        "# Set Up Plot Configuration\n",
        "fig, axs = plt.subplots(1, 3, figsize=(12, 5))\n",
        "fig.suptitle(\"Distribution of Education vs. Manner of Death\")\n",
        "\n",
        "# Plot Counts\n",
        "sns.countplot(x=\"education_2003_revision\", data=new_death, ax=axs[0])\n",
        "\n",
        "# Plot Counts with Overlay\n",
        "crosstab_education = pd.crosstab(new_death['education_2003_revision'], new_death['manner_of_death'])\n",
        "crosstab_education.plot(kind='bar', ax=axs[1], stacked = True)\n",
        "\n",
        "# Plot Counts with Overlay and Normalization\n",
        "crosstab_education_norm = crosstab_education.div(crosstab_education.sum(axis=1), axis = 0)\n",
        "crosstab_education_norm.plot(kind='bar', ax=axs[2], stacked = True)"
      ]
    },
    {
      "cell_type": "markdown",
      "source": [
        "##### 2.1.2 month_of_death"
      ],
      "metadata": {
        "id": "gWhrE_zQSAd6"
      }
    },
    {
      "cell_type": "code",
      "source": [
        "# Value Counts\n",
        "month_of_death_counts = new_death['month_of_death'].value_counts()\n",
        "print(\"month_of_death Frequency:\")\n",
        "print(month_of_death_counts)\n",
        "\n",
        "# Set Up Plot Configuration\n",
        "fig, axs = plt.subplots(1, 3, figsize=(12, 5))\n",
        "fig.suptitle(\"Distribution of Month of Death vs. Manner of Death\")\n",
        "\n",
        "# Plot Counts\n",
        "sns.countplot(x=\"month_of_death\", data=new_death, ax=axs[0])\n",
        "\n",
        "# Plot Counts with Overlay\n",
        "crosstab_month = pd.crosstab(new_death['month_of_death'], new_death['manner_of_death'])\n",
        "crosstab_month.plot(kind='bar', ax=axs[1], stacked = True)\n",
        "\n",
        "# Plot Counts with Overlay and Normalization\n",
        "crosstab_month_norm = crosstab_month.div(crosstab_month.sum(axis=1), axis = 0)\n",
        "crosstab_month_norm.plot(kind='bar', ax=axs[2], stacked = True)"
      ],
      "metadata": {
        "colab": {
          "base_uri": "https://localhost:8080/",
          "height": 779
        },
        "id": "fWgctAMqSLaq",
        "outputId": "a069df89-a73d-48a1-cb17-a6c5fc9660b9"
      },
      "execution_count": 16,
      "outputs": [
        {
          "output_type": "stream",
          "name": "stdout",
          "text": [
            "month_of_death Frequency:\n",
            "1     5230\n",
            "3     4985\n",
            "2     4658\n",
            "4     4375\n",
            "5     4180\n",
            "6     1937\n",
            "7      372\n",
            "9      359\n",
            "10     359\n",
            "12     347\n",
            "8      338\n",
            "11     337\n",
            "Name: month_of_death, dtype: int64\n"
          ]
        },
        {
          "output_type": "execute_result",
          "data": {
            "text/plain": [
              "<Axes: xlabel='month_of_death'>"
            ]
          },
          "metadata": {},
          "execution_count": 16
        },
        {
          "output_type": "display_data",
          "data": {
            "text/plain": [
              "<Figure size 1200x500 with 3 Axes>"
            ],
            "image/png": "[encoded data removed]"
          },
          "metadata": {}
        }
      ]
    },
    {
      "cell_type": "markdown",
      "source": [
        "##### 2.1.3 sex"
      ],
      "metadata": {
        "id": "mdMrlUJ3SfA3"
      }
    },
    {
      "cell_type": "code",
      "source": [
        "# Value Counts\n",
        "sex_counts = new_death['sex'].value_counts()\n",
        "print(\"sex Frequency:\")\n",
        "print(sex_counts)\n",
        "\n",
        "# Set Up Plot Configuration\n",
        "fig, axs = plt.subplots(1, 3, figsize=(12, 5))\n",
        "fig.suptitle(\"Distribution of Sex vs. Manner of Death\")\n",
        "\n",
        "# Plot Counts\n",
        "sns.countplot(x=\"sex\", data=new_death, ax=axs[0])\n",
        "\n",
        "# Plot Counts with Overlay\n",
        "crosstab_sex = pd.crosstab(new_death['sex'], new_death['manner_of_death'])\n",
        "crosstab_sex.plot(kind='bar', ax=axs[1], stacked = True)\n",
        "\n",
        "# Plot Counts with Overlay and Normalization\n",
        "crosstab_sex_norm = crosstab_sex.div(crosstab_sex.sum(axis=1), axis = 0)\n",
        "crosstab_sex_norm.plot(kind='bar', ax=axs[2], stacked = True)"
      ],
      "metadata": {
        "colab": {
          "base_uri": "https://localhost:8080/",
          "height": 602
        },
        "id": "hdGHwPTiSh_Z",
        "outputId": "763ae8dc-9ddc-4ccd-9569-666222fcdb85"
      },
      "execution_count": 17,
      "outputs": [
        {
          "output_type": "stream",
          "name": "stdout",
          "text": [
            "sex Frequency:\n",
            "M    14216\n",
            "F    13261\n",
            "Name: sex, dtype: int64\n"
          ]
        },
        {
          "output_type": "execute_result",
          "data": {
            "text/plain": [
              "<Axes: xlabel='sex'>"
            ]
          },
          "metadata": {},
          "execution_count": 17
        },
        {
          "output_type": "display_data",
          "data": {
            "text/plain": [
              "<Figure size 1200x500 with 3 Axes>"
            ],
            "image/png": "[encoded data removed]"
          },
          "metadata": {}
        }
      ]
    },
    {
      "cell_type": "markdown",
      "source": [
        "##### 2.1.4 place_of_death_and_decedents_status"
      ],
      "metadata": {
        "id": "dw4xhZoYS7tn"
      }
    },
    {
      "cell_type": "code",
      "source": [
        "# Value Counts\n",
        "place_of_death_and_decedents_status_counts = new_death['place_of_death_and_decedents_status'].value_counts()\n",
        "print(\"place_of_death_and_decedents_status Frequency:\")\n",
        "print(place_of_death_and_decedents_status_counts)\n",
        "\n",
        "# Set Up Plot Configuration\n",
        "fig, axs = plt.subplots(1, 3, figsize=(12, 5))\n",
        "fig.suptitle(\"Distribution of Place of Death vs. Manner of Death\")\n",
        "\n",
        "# Plot Counts\n",
        "sns.countplot(x=\"place_of_death_and_decedents_status\", data=new_death, ax=axs[0])\n",
        "\n",
        "# Plot Counts with Overlay\n",
        "crosstab_place_of_death_and_decedents_status = pd.crosstab(new_death['place_of_death_and_decedents_status'], new_death['manner_of_death'])\n",
        "crosstab_place_of_death_and_decedents_status.plot(kind='bar', ax=axs[1], stacked = True)\n",
        "\n",
        "# Plot Counts with Overlay and Normalization\n",
        "crosstab_place_of_death_and_decedents_status_norm = crosstab_place_of_death_and_decedents_status.div(crosstab_place_of_death_and_decedents_status.sum(axis=1), axis = 0)\n",
        "crosstab_place_of_death_and_decedents_status_norm.plot(kind='bar', ax=axs[2], stacked = True)"
      ],
      "metadata": {
        "colab": {
          "base_uri": "https://localhost:8080/",
          "height": 697
        },
        "id": "hvW9riPoTBut",
        "outputId": "2880d474-5edf-4756-ac16-987999312c61"
      },
      "execution_count": 18,
      "outputs": [
        {
          "output_type": "stream",
          "name": "stdout",
          "text": [
            "place_of_death_and_decedents_status Frequency:\n",
            "4.0    10312\n",
            "1.0     9081\n",
            "6.0     3682\n",
            "7.0     2237\n",
            "2.0     2084\n",
            "3.0       49\n",
            "9.0       31\n",
            "Name: place_of_death_and_decedents_status, dtype: int64\n"
          ]
        },
        {
          "output_type": "execute_result",
          "data": {
            "text/plain": [
              "<Axes: xlabel='place_of_death_and_decedents_status'>"
            ]
          },
          "metadata": {},
          "execution_count": 18
        },
        {
          "output_type": "display_data",
          "data": {
            "text/plain": [
              "<Figure size 1200x500 with 3 Axes>"
            ],
            "image/png": "[encoded data removed]"
          },
          "metadata": {}
        }
      ]
    },
    {
      "cell_type": "markdown",
      "source": [
        "##### 2.1.5 marital_status"
      ],
      "metadata": {
        "id": "wDQSb_eMTcxS"
      }
    },
    {
      "cell_type": "code",
      "source": [
        "# Value Counts\n",
        "marital_status_counts = new_death['marital_status'].value_counts()\n",
        "print(\"marital_status Frequency:\")\n",
        "print(marital_status_counts)\n",
        "\n",
        "# Set Up Plot Configuration\n",
        "fig, axs = plt.subplots(1, 3, figsize=(12, 5))\n",
        "fig.suptitle(\"Distribution of Marital Status vs. Manner of Death\")\n",
        "\n",
        "# Plot Counts\n",
        "sns.countplot(x=\"marital_status\", data=new_death, ax=axs[0])\n",
        "\n",
        "# Plot Counts with Overlay\n",
        "crosstab_marital_status = pd.crosstab(new_death['marital_status'], new_death['manner_of_death'])\n",
        "crosstab_marital_status.plot(kind='bar', ax=axs[1], stacked = True)\n",
        "\n",
        "# Plot Counts with Overlay and Normalization\n",
        "crosstab_marital_status_norm = crosstab_marital_status.div(crosstab_marital_status.sum(axis=1), axis = 0)\n",
        "crosstab_marital_status_norm.plot(kind='bar', ax=axs[2], stacked = True)"
      ],
      "metadata": {
        "colab": {
          "base_uri": "https://localhost:8080/",
          "height": 654
        },
        "id": "GlRTS2LATcdJ",
        "outputId": "6c38e51d-3acd-4e51-fe53-d98fae1f67a0"
      },
      "execution_count": 19,
      "outputs": [
        {
          "output_type": "stream",
          "name": "stdout",
          "text": [
            "marital_status Frequency:\n",
            "M    10338\n",
            "W     9086\n",
            "D     4573\n",
            "S     3359\n",
            "U      120\n",
            "Name: marital_status, dtype: int64\n"
          ]
        },
        {
          "output_type": "execute_result",
          "data": {
            "text/plain": [
              "<Axes: xlabel='marital_status'>"
            ]
          },
          "metadata": {},
          "execution_count": 19
        },
        {
          "output_type": "display_data",
          "data": {
            "text/plain": [
              "<Figure size 1200x500 with 3 Axes>"
            ],
            "image/png": "[encoded data removed]"
          },
          "metadata": {}
        }
      ]
    },
    {
      "cell_type": "markdown",
      "source": [
        "##### 2.1.6 day_of_week_of_death"
      ],
      "metadata": {
        "id": "4lc4aueoT41-"
      }
    },
    {
      "cell_type": "code",
      "source": [
        "# Value Counts\n",
        "day_of_week_of_death_counts = new_death['day_of_week_of_death'].value_counts()\n",
        "print(\"day_of_week_of_death Frequency:\")\n",
        "print(day_of_week_of_death_counts)\n",
        "\n",
        "# Set Up Plot Configuration\n",
        "fig, axs = plt.subplots(1, 3, figsize=(12, 5))\n",
        "fig.suptitle(\"Distribution of Day of Week vs. Manner of Death\")\n",
        "\n",
        "# Plot Counts\n",
        "sns.countplot(x=\"day_of_week_of_death\", data=new_death, ax=axs[0])\n",
        "\n",
        "# Plot Counts with Overlay\n",
        "crosstab_day_of_week_of_death = pd.crosstab(new_death['day_of_week_of_death'], new_death['manner_of_death'])\n",
        "crosstab_day_of_week_of_death.plot(kind='bar', ax=axs[1], stacked = True)\n",
        "\n",
        "# Plot Counts with Overlay and Normalization\n",
        "crosstab_day_of_week_of_death_norm = crosstab_day_of_week_of_death.div(crosstab_day_of_week_of_death.sum(axis=1), axis = 0)\n",
        "crosstab_day_of_week_of_death_norm.plot(kind='bar', ax=axs[2], stacked = True)"
      ],
      "metadata": {
        "colab": {
          "base_uri": "https://localhost:8080/",
          "height": 697
        },
        "id": "gSSmvKOiUATa",
        "outputId": "146ed9ef-9382-464b-b605-e435bdf2bfb9"
      },
      "execution_count": 20,
      "outputs": [
        {
          "output_type": "stream",
          "name": "stdout",
          "text": [
            "day_of_week_of_death Frequency:\n",
            "7.0    4045\n",
            "5.0    3992\n",
            "6.0    3955\n",
            "1.0    3947\n",
            "2.0    3933\n",
            "4.0    3820\n",
            "3.0    3784\n",
            "Name: day_of_week_of_death, dtype: int64\n"
          ]
        },
        {
          "output_type": "execute_result",
          "data": {
            "text/plain": [
              "<Axes: xlabel='day_of_week_of_death'>"
            ]
          },
          "metadata": {},
          "execution_count": 20
        },
        {
          "output_type": "display_data",
          "data": {
            "text/plain": [
              "<Figure size 1200x500 with 3 Axes>"
            ],
            "image/png": "[encoded data removed]"
          },
          "metadata": {}
        }
      ]
    },
    {
      "cell_type": "markdown",
      "source": [
        "##### 2.1.7 injury_at_work"
      ],
      "metadata": {
        "id": "zJTuTdO0UhrN"
      }
    },
    {
      "cell_type": "code",
      "source": [
        "# Value Counts\n",
        "injury_at_work_counts = new_death['injury_at_work'].value_counts()\n",
        "print(\"injury_at_work Frequency:\")\n",
        "print(injury_at_work_counts)\n",
        "\n",
        "# Set Up Plot Configuration\n",
        "fig, axs = plt.subplots(1, 3, figsize=(12, 5))\n",
        "fig.suptitle(\"Distribution of Injury at Work vs. Manner of Death\")\n",
        "\n",
        "# Plot Counts\n",
        "sns.countplot(x=\"injury_at_work\", data=new_death, ax=axs[0])\n",
        "\n",
        "# Plot Counts with Overlay\n",
        "crosstab_injury_at_work = pd.crosstab(new_death['injury_at_work'], new_death['manner_of_death'])\n",
        "crosstab_injury_at_work.plot(kind='bar', ax=axs[1], stacked = True)\n",
        "\n",
        "# Plot Counts with Overlay and Normalization\n",
        "crosstab_injury_at_work_norm = crosstab_injury_at_work.div(crosstab_injury_at_work.sum(axis=1), axis = 0)\n",
        "crosstab_injury_at_work_norm.plot(kind='bar', ax=axs[2], stacked = True)"
      ],
      "metadata": {
        "colab": {
          "base_uri": "https://localhost:8080/",
          "height": 619
        },
        "id": "jUdVUUfjUkLi",
        "outputId": "ae0818bd-6ebb-4584-a4c0-812a71c5849d"
      },
      "execution_count": 21,
      "outputs": [
        {
          "output_type": "stream",
          "name": "stdout",
          "text": [
            "injury_at_work Frequency:\n",
            "U    25448\n",
            "N     1986\n",
            "Y       42\n",
            "Name: injury_at_work, dtype: int64\n"
          ]
        },
        {
          "output_type": "execute_result",
          "data": {
            "text/plain": [
              "<Axes: xlabel='injury_at_work'>"
            ]
          },
          "metadata": {},
          "execution_count": 21
        },
        {
          "output_type": "display_data",
          "data": {
            "text/plain": [
              "<Figure size 1200x500 with 3 Axes>"
            ],
            "image/png": "[encoded data removed]"
          },
          "metadata": {}
        }
      ]
    },
    {
      "cell_type": "markdown",
      "source": [
        "##### 2.1.8 method_of_disposition"
      ],
      "metadata": {
        "id": "iocCjrYoVEN_"
      }
    },
    {
      "cell_type": "code",
      "source": [
        "# Value Counts\n",
        "method_of_disposition_counts = new_death['method_of_disposition'].value_counts()\n",
        "print(\"method_of_disposition Frequency:\")\n",
        "print(method_of_disposition_counts)\n",
        "\n",
        "# Set Up Plot Configuration\n",
        "fig, axs = plt.subplots(1, 3, figsize=(12, 5))\n",
        "fig.suptitle(\"Distribution of Method of Disposition vs. Manner of Death\")\n",
        "\n",
        "# Plot Counts\n",
        "sns.countplot(x=\"method_of_disposition\", data=new_death, ax=axs[0])\n",
        "\n",
        "# Plot Counts with Overlay\n",
        "crosstab_method_of_disposition = pd.crosstab(new_death['method_of_disposition'], new_death['manner_of_death'])\n",
        "crosstab_method_of_disposition.plot(kind='bar', ax=axs[1], stacked = True)\n",
        "\n",
        "# Plot Counts with Overlay and Normalization\n",
        "crosstab_method_of_disposition_norm = crosstab_method_of_disposition.div(crosstab_method_of_disposition.sum(axis=1), axis = 0)\n",
        "crosstab_method_of_disposition_norm.plot(kind='bar', ax=axs[2], stacked = True)"
      ],
      "metadata": {
        "colab": {
          "base_uri": "https://localhost:8080/",
          "height": 671
        },
        "id": "wNDeIXjCVID0",
        "outputId": "b1bcea83-b441-445e-e0f2-635501445dfb"
      },
      "execution_count": 22,
      "outputs": [
        {
          "output_type": "stream",
          "name": "stdout",
          "text": [
            "method_of_disposition Frequency:\n",
            "U    23288\n",
            "C     2740\n",
            "B     1251\n",
            "R      191\n",
            "O        5\n",
            "D        1\n",
            "Name: method_of_disposition, dtype: int64\n"
          ]
        },
        {
          "output_type": "execute_result",
          "data": {
            "text/plain": [
              "<Axes: xlabel='method_of_disposition'>"
            ]
          },
          "metadata": {},
          "execution_count": 22
        },
        {
          "output_type": "display_data",
          "data": {
            "text/plain": [
              "<Figure size 1200x500 with 3 Axes>"
            ],
            "image/png": "[encoded data removed]"
          },
          "metadata": {}
        }
      ]
    },
    {
      "cell_type": "markdown",
      "source": [
        "##### 2.1.9 autopsy"
      ],
      "metadata": {
        "id": "gpmL1-7EVZro"
      }
    },
    {
      "cell_type": "code",
      "source": [
        "# Value Counts\n",
        "autopsy_counts = new_death['autopsy'].value_counts()\n",
        "print(\"autopsy Frequency:\")\n",
        "print(autopsy_counts)\n",
        "\n",
        "# Set Up Plot Configuration\n",
        "fig, axs = plt.subplots(1, 3, figsize=(12, 5))\n",
        "fig.suptitle(\"Distribution of Autopsy vs. Manner of Death\")\n",
        "\n",
        "# Plot Counts\n",
        "sns.countplot(x=\"autopsy\", data=new_death, ax=axs[0])\n",
        "\n",
        "# Plot Counts with Overlay\n",
        "crosstab_autopsy = pd.crosstab(new_death['autopsy'], new_death['manner_of_death'])\n",
        "crosstab_autopsy.plot(kind='bar', ax=axs[1], stacked = True)\n",
        "\n",
        "# Plot Counts with Overlay and Normalization\n",
        "crosstab_autopsy_norm = crosstab_autopsy.div(crosstab_autopsy.sum(axis=1), axis = 0)\n",
        "crosstab_autopsy_norm.plot(kind='bar', ax=axs[2], stacked = True)"
      ],
      "metadata": {
        "colab": {
          "base_uri": "https://localhost:8080/",
          "height": 619
        },
        "id": "84CHzyHFVbxQ",
        "outputId": "9d070932-a118-40d9-fd9a-8358eda48023"
      },
      "execution_count": 23,
      "outputs": [
        {
          "output_type": "stream",
          "name": "stdout",
          "text": [
            "autopsy Frequency:\n",
            "N    21188\n",
            "U     4529\n",
            "Y     1759\n",
            "Name: autopsy, dtype: int64\n"
          ]
        },
        {
          "output_type": "execute_result",
          "data": {
            "text/plain": [
              "<Axes: xlabel='autopsy'>"
            ]
          },
          "metadata": {},
          "execution_count": 23
        },
        {
          "output_type": "display_data",
          "data": {
            "text/plain": [
              "<Figure size 1200x500 with 3 Axes>"
            ],
            "image/png": "[encoded data removed]"
          },
          "metadata": {}
        }
      ]
    },
    {
      "cell_type": "markdown",
      "source": [
        "##### 2.1.10 race"
      ],
      "metadata": {
        "id": "Bs9nKpYOVsrf"
      }
    },
    {
      "cell_type": "code",
      "source": [
        "# Value Counts\n",
        "race_counts = new_death['race'].value_counts()\n",
        "print(\"race Frequency:\")\n",
        "print(race_counts)\n",
        "\n",
        "# Set Up Plot Configuration\n",
        "fig, axs = plt.subplots(1, 3, figsize=(12, 5))\n",
        "fig.suptitle(\"Distribution of Race vs. Manner of Death\")\n",
        "\n",
        "# Plot Counts\n",
        "sns.countplot(x=\"race\", data=new_death, ax=axs[0])\n",
        "\n",
        "# Plot Counts with Overlay\n",
        "crosstab_race = pd.crosstab(new_death['race'], new_death['manner_of_death'])\n",
        "crosstab_race.plot(kind='bar', ax=axs[1], stacked = True)\n",
        "\n",
        "crosstab_race_norm = crosstab_race.div(crosstab_race.sum(axis=1), axis = 0)\n",
        "crosstab_race_norm.plot(kind='bar', ax=axs[2], stacked = True)"
      ],
      "metadata": {
        "colab": {
          "base_uri": "https://localhost:8080/",
          "height": 810
        },
        "id": "hew-gEsHVuWt",
        "outputId": "9b7ca985-b961-4864-cf35-08fa83498ad2"
      },
      "execution_count": 24,
      "outputs": [
        {
          "output_type": "stream",
          "name": "stdout",
          "text": [
            "race Frequency:\n",
            "1.0     21070\n",
            "2.0      5144\n",
            "3.0      1048\n",
            "7.0        72\n",
            "68.0       36\n",
            "28.0       30\n",
            "38.0       29\n",
            "5.0        22\n",
            "4.0        14\n",
            "78.0        7\n",
            "6.0         2\n",
            "18.0        1\n",
            "48.0        1\n",
            "Name: race, dtype: int64\n"
          ]
        },
        {
          "output_type": "execute_result",
          "data": {
            "text/plain": [
              "<Axes: xlabel='race'>"
            ]
          },
          "metadata": {},
          "execution_count": 24
        },
        {
          "output_type": "display_data",
          "data": {
            "text/plain": [
              "<Figure size 1200x500 with 3 Axes>"
            ],
            "image/png": "[encoded data removed]"
          },
          "metadata": {}
        }
      ]
    },
    {
      "cell_type": "markdown",
      "source": [
        "##### 2.1.11 manner_of_death"
      ],
      "metadata": {
        "id": "w8ZKeuixWXYc"
      }
    },
    {
      "cell_type": "code",
      "source": [
        "# Value Counts\n",
        "manner_of_death_counts = new_death['manner_of_death'].value_counts()\n",
        "print(\"manner_of_death Frequency:\")\n",
        "print(manner_of_death_counts)\n",
        "\n",
        "# Plot Counts\n",
        "sns.countplot(x=\"manner_of_death\", data=new_death)"
      ],
      "metadata": {
        "colab": {
          "base_uri": "https://localhost:8080/",
          "height": 537
        },
        "id": "sOrWSFHwWUA_",
        "outputId": "9be9ebb5-ec9a-4169-d8f2-e05d8afb5463"
      },
      "execution_count": 25,
      "outputs": [
        {
          "output_type": "stream",
          "name": "stdout",
          "text": [
            "manner_of_death Frequency:\n",
            "0.0    26070\n",
            "1.0      251\n",
            "Name: manner_of_death, dtype: int64\n"
          ]
        },
        {
          "output_type": "execute_result",
          "data": {
            "text/plain": [
              "<Axes: xlabel='manner_of_death', ylabel='count'>"
            ]
          },
          "metadata": {},
          "execution_count": 25
        },
        {
          "output_type": "display_data",
          "data": {
            "text/plain": [
              "<Figure size 640x480 with 1 Axes>"
            ],
            "image/png": "[encoded data removed]"
          },
          "metadata": {}
        }
      ]
    },
    {
      "cell_type": "markdown",
      "source": [
        "#### 2.2 Numerical Data Analysis"
      ],
      "metadata": {
        "id": "Xqm3hWVRW-sL"
      }
    },
    {
      "cell_type": "markdown",
      "source": [
        "2.2.1 detail_age"
      ],
      "metadata": {
        "id": "64Zfen5zXoqJ"
      }
    },
    {
      "cell_type": "code",
      "source": [
        "detail_age = new_death['detail_age']\n",
        "sns.histplot(detail_age, bins=100, color='skyblue', edgecolor='black')\n",
        "plt.xlabel('Age')\n",
        "plt.ylabel('Frequency')\n",
        "plt.title('Histogram of detail_age')\n",
        "plt.show()"
      ],
      "metadata": {
        "colab": {
          "base_uri": "https://localhost:8080/",
          "height": 472
        },
        "id": "2BBmnm8LXJBr",
        "outputId": "346516ed-fad3-4c1f-dfad-3a4e699996e3"
      },
      "execution_count": 26,
      "outputs": [
        {
          "output_type": "display_data",
          "data": {
            "text/plain": [
              "<Figure size 640x480 with 1 Axes>"
            ],
            "image/png": "[encoded data removed]"
          },
          "metadata": {}
        }
      ]
    },
    {
      "cell_type": "markdown",
      "source": [
        "There are outliers that are causing a non-representative view of the age distribution. We will remove the outliers."
      ],
      "metadata": {
        "id": "YoQQQxKXYFHK"
      }
    },
    {
      "cell_type": "code",
      "source": [
        "# Compute z-score for every data point in detail_age\n",
        "new_death['z_detail_age'] = (new_death['detail_age']-new_death['detail_age'].mean())/new_death['detail_age'].std()\n",
        "print('Number of rows before discarding outliers = %d' % (new_death.shape[0]))\n",
        "\n",
        "# Removes rows with a zscore beyond 3 or -3\n",
        "new_death = new_death[(new_death['z_detail_age'] <= 3) & (new_death['z_detail_age'] >= -3)]\n",
        "print('Number of rows after discarding missing values = %d' % (new_death.shape[0]))\n",
        "\n",
        "# Drop the 'C' column\n",
        "column_name = 'z_detail_age'\n",
        "new_death.drop(column_name, axis=1, inplace=True)"
      ],
      "metadata": {
        "colab": {
          "base_uri": "https://localhost:8080/"
        },
        "id": "PdarcVJwXzoh",
        "outputId": "56c59efe-3886-4ab7-e405-2bd7c54160ca"
      },
      "execution_count": 27,
      "outputs": [
        {
          "output_type": "stream",
          "name": "stdout",
          "text": [
            "Number of rows before discarding outliers = 27477\n",
            "Number of rows after discarding missing values = 27140\n"
          ]
        }
      ]
    },
    {
      "cell_type": "code",
      "source": [
        "# Plot a Histogram for detail_age\n",
        "detail_age = new_death['detail_age']\n",
        "sns.histplot(detail_age, bins=50, color='skyblue', edgecolor='black')\n",
        "plt.xlabel('Age')\n",
        "plt.ylabel('Frequency')\n",
        "plt.title('Histogram of detail_age')\n",
        "plt.show()"
      ],
      "metadata": {
        "colab": {
          "base_uri": "https://localhost:8080/",
          "height": 472
        },
        "id": "wAtB2uZOYloA",
        "outputId": "59b0e080-1faf-411f-d866-7542aee22331"
      },
      "execution_count": 28,
      "outputs": [
        {
          "output_type": "display_data",
          "data": {
            "text/plain": [
              "<Figure size 640x480 with 1 Axes>"
            ],
            "image/png": "[encoded data removed]"
          },
          "metadata": {}
        }
      ]
    },
    {
      "cell_type": "code",
      "source": [
        "# Plot a Box Plot for detail_age\n",
        "sns.boxplot(data=new_death[['detail_age']])\n",
        "plt.xlabel('Age')\n",
        "plt.ylabel('Value')\n",
        "plt.title(\"Box Plot for detail_age\")\n",
        "plt.show()"
      ],
      "metadata": {
        "colab": {
          "base_uri": "https://localhost:8080/",
          "height": 472
        },
        "id": "ux0MfwZFYcbr",
        "outputId": "93ffbe38-ee82-4f78-9cb0-f8802aca127a"
      },
      "execution_count": 29,
      "outputs": [
        {
          "output_type": "display_data",
          "data": {
            "text/plain": [
              "<Figure size 640x480 with 1 Axes>"
            ],
            "image/png": "[encoded data removed]"
          },
          "metadata": {}
        }
      ]
    },
    {
      "cell_type": "code",
      "source": [
        "# Plot a Box Plot for detail_age grouped by manner_of_death\n",
        "sns.boxplot(x=\"detail_age\", y=\"manner_of_death\", data=new_death)"
      ],
      "metadata": {
        "colab": {
          "base_uri": "https://localhost:8080/",
          "height": 467
        },
        "id": "hMxXl9-LZj2o",
        "outputId": "49a34b8c-f9de-4251-9cb0-6a43566ed1c9"
      },
      "execution_count": 30,
      "outputs": [
        {
          "output_type": "execute_result",
          "data": {
            "text/plain": [
              "<Axes: xlabel='detail_age', ylabel='manner_of_death'>"
            ]
          },
          "metadata": {},
          "execution_count": 30
        },
        {
          "output_type": "display_data",
          "data": {
            "text/plain": [
              "<Figure size 640x480 with 1 Axes>"
            ],
            "image/png": "[encoded data removed]"
          },
          "metadata": {}
        }
      ]
    },
    {
      "cell_type": "markdown",
      "source": [
        "## 3. Data Preprocessing"
      ],
      "metadata": {
        "id": "-dkgva4bb-Le"
      }
    },
    {
      "cell_type": "markdown",
      "metadata": {
        "id": "Lgudal26v37j"
      },
      "source": [
        "#### 3.1 Missing Data"
      ]
    },
    {
      "cell_type": "code",
      "execution_count": 31,
      "metadata": {
        "colab": {
          "base_uri": "https://localhost:8080/"
        },
        "id": "re0RZ86x9QVJ",
        "outputId": "4112fbb3-5ac3-429f-ff1e-b650c08ff9bc"
      },
      "outputs": [
        {
          "output_type": "stream",
          "name": "stdout",
          "text": [
            "education_2003_revision                23053\n",
            "month_of_death                             0\n",
            "sex                                        0\n",
            "place_of_death_and_decedents_status        1\n",
            "marital_status                             1\n",
            "day_of_week_of_death                       1\n",
            "injury_at_work                             1\n",
            "manner_of_death                         1149\n",
            "method_of_disposition                      1\n",
            "autopsy                                    1\n",
            "race                                       1\n",
            "detail_age                                 0\n",
            "dtype: int64\n"
          ]
        }
      ],
      "source": [
        "# Print Missing Values per Column\n",
        "missing_values_count = new_death.isnull().sum()\n",
        "print(missing_values_count)"
      ]
    },
    {
      "cell_type": "code",
      "execution_count": 32,
      "metadata": {
        "colab": {
          "base_uri": "https://localhost:8080/"
        },
        "id": "BrLB4_IL9QXx",
        "outputId": "03641d7f-31b3-4dab-b628-e9b11da3a8f9"
      },
      "outputs": [
        {
          "output_type": "stream",
          "name": "stdout",
          "text": [
            "education_2003_revision                84.941046\n",
            "month_of_death                          0.000000\n",
            "sex                                     0.000000\n",
            "place_of_death_and_decedents_status     0.003685\n",
            "marital_status                          0.003685\n",
            "day_of_week_of_death                    0.003685\n",
            "injury_at_work                          0.003685\n",
            "manner_of_death                         4.233604\n",
            "method_of_disposition                   0.003685\n",
            "autopsy                                 0.003685\n",
            "race                                    0.003685\n",
            "detail_age                              0.000000\n",
            "dtype: float64\n"
          ]
        }
      ],
      "source": [
        "# Print Missing Data as percentage (per column)\n",
        "total_rows = new_death.shape[0]\n",
        "percent_missing = (missing_values_count / total_rows) * 100\n",
        "print(percent_missing)"
      ]
    },
    {
      "cell_type": "code",
      "execution_count": 33,
      "metadata": {
        "colab": {
          "base_uri": "https://localhost:8080/"
        },
        "id": "7uZ6RQld9Qaz",
        "outputId": "801069c4-ddb5-43b1-88cf-61a649223cd5"
      },
      "outputs": [
        {
          "output_type": "stream",
          "name": "stdout",
          "text": [
            "Total percentage of missing data in the dataset: 7.43%\n"
          ]
        }
      ],
      "source": [
        "# Print Total Percent of Missing Data\n",
        "total_missing_values = new_death.isnull().sum().sum()\n",
        "total_elements = new_death.size\n",
        "total_percent_missing = (total_missing_values / total_elements) * 100\n",
        "print(\"Total percentage of missing data in the dataset: {:.2f}%\".format(total_percent_missing))"
      ]
    },
    {
      "cell_type": "code",
      "execution_count": 34,
      "metadata": {
        "id": "TJ7HjtAr-s1R"
      },
      "outputs": [],
      "source": [
        "# Drop rows with missing values\n",
        "death_dropped = new_death.dropna()"
      ]
    },
    {
      "cell_type": "code",
      "execution_count": 35,
      "metadata": {
        "colab": {
          "base_uri": "https://localhost:8080/"
        },
        "id": "pZUN23ne-syo",
        "outputId": "29de2ea4-cb24-4010-b350-1dcc433a6ab9"
      },
      "outputs": [
        {
          "output_type": "stream",
          "name": "stdout",
          "text": [
            "Total percentage of missing data in the sample dataset: 0.00%\n"
          ]
        }
      ],
      "source": [
        "# Check Missing Values were Dropped\n",
        "total_missing_values3 = death_dropped.isnull().sum().sum()\n",
        "total_elements3 = death_dropped.size\n",
        "total_percent_missing3 = (total_missing_values3 / total_elements3) * 100\n",
        "print(\"Total percentage of missing data in the sample dataset: {:.2f}%\".format(total_percent_missing3))"
      ]
    },
    {
      "cell_type": "markdown",
      "metadata": {
        "id": "qmoIt-JTv37l"
      },
      "source": [
        "#### 3.2 Random Sample"
      ]
    },
    {
      "cell_type": "code",
      "execution_count": 36,
      "metadata": {
        "colab": {
          "base_uri": "https://localhost:8080/"
        },
        "id": "lg-T99dlQ_nV",
        "outputId": "41b37db1-8b4f-4722-9823-5e5e5681244f"
      },
      "outputs": [
        {
          "output_type": "stream",
          "name": "stdout",
          "text": [
            "Number of rows after random sampling = 1226\n"
          ]
        }
      ],
      "source": [
        "# Perform random sampling\n",
        "sampled_df = death_dropped.sample(frac=0.3, random_state=1)\n",
        "print('Number of rows after random sampling = %d' % (sampled_df.shape[0]))"
      ]
    },
    {
      "cell_type": "markdown",
      "metadata": {
        "id": "_B08gmaOv37q"
      },
      "source": [
        "#### 2.3 Categorical Correlation Analysis"
      ]
    },
    {
      "cell_type": "code",
      "execution_count": 37,
      "metadata": {
        "id": "IheGO6c2zOhO"
      },
      "outputs": [],
      "source": [
        "sampled_df = sampled_df.dropna()\n",
        "# print(sampled_df)"
      ]
    },
    {
      "cell_type": "markdown",
      "source": [
        "education_2003_revision and manner_of_death"
      ],
      "metadata": {
        "id": "K2EnMTTUrzJt"
      }
    },
    {
      "cell_type": "code",
      "source": [
        "# Create a cross-tabulation (crosstab) between education_2003_revision and manner_of_death - original data\n",
        "education_2003_revision_manner_of_death_crosstab = pd.crosstab(new_death['education_2003_revision'], new_death['manner_of_death'])\n",
        "\n",
        "# Print the cross-tabulation\n",
        "print(\"Cross-Tabulation between education_2003_revision and manner_of_death: Original\")\n",
        "print(education_2003_revision_manner_of_death_crosstab)"
      ],
      "metadata": {
        "id": "6g6gDkHmrHgs",
        "colab": {
          "base_uri": "https://localhost:8080/"
        },
        "outputId": "5ab7c56f-08a7-45a5-ed4e-53e6025f3a53"
      },
      "execution_count": 48,
      "outputs": [
        {
          "output_type": "stream",
          "name": "stdout",
          "text": [
            "Cross-Tabulation between education_2003_revision and manner_of_death: Original\n",
            "manner_of_death           0.0  1.0\n",
            "education_2003_revision           \n",
            "1.0                       353    0\n",
            "2.0                       386   15\n",
            "3.0                      1651   32\n",
            "4.0                       663    6\n",
            "5.0                       266    4\n",
            "6.0                       388    1\n",
            "7.0                       149    0\n",
            "8.0                        54    0\n",
            "9.0                       118    1\n"
          ]
        }
      ]
    },
    {
      "cell_type": "code",
      "source": [
        "# Create a cross-tabulation (crosstab) between education_2003_revision and manner_of_death - sampled data\n",
        "education_2003_revision_manner_of_death_crosstab2 = pd.crosstab(sampled_df['education_2003_revision'], sampled_df['manner_of_death'])\n",
        "\n",
        "# Print the cross-tabulation\n",
        "print(\"Cross-Tabulation between education_2003_revision and manner_of_death: Sampled\")\n",
        "print(education_2003_revision_manner_of_death_crosstab2)"
      ],
      "metadata": {
        "id": "XY5PItdTrHZn",
        "colab": {
          "base_uri": "https://localhost:8080/"
        },
        "outputId": "e72436c9-cebb-44d2-f98d-e674890522ec"
      },
      "execution_count": 49,
      "outputs": [
        {
          "output_type": "stream",
          "name": "stdout",
          "text": [
            "Cross-Tabulation between education_2003_revision and manner_of_death: Sampled\n",
            "manner_of_death          0.0  1.0\n",
            "education_2003_revision          \n",
            "1.0                      111    0\n",
            "2.0                      130    5\n",
            "3.0                      468   14\n",
            "4.0                      187    2\n",
            "5.0                       89    0\n",
            "6.0                      124    0\n",
            "7.0                       41    0\n",
            "8.0                       17    0\n",
            "9.0                       38    0\n"
          ]
        }
      ]
    },
    {
      "cell_type": "code",
      "source": [
        "# Perform the chi-square test - education_2003_revision and manner_of_death - original data\n",
        "chi2, p, dof, expected_edu = chi2_contingency(education_2003_revision_manner_of_death_crosstab)\n",
        "\n",
        "# Print the results\n",
        "print(f\"Chi-Square Value: {chi2}\")\n",
        "print(f\"P-value: {p}\")\n",
        "print(f\"Degrees of Freedom: {dof}\")\n",
        "print(\"Expected Frequencies:\")\n",
        "print(expected_edu)"
      ],
      "metadata": {
        "id": "DF6QacRjrHWM",
        "colab": {
          "base_uri": "https://localhost:8080/"
        },
        "outputId": "9a3baa19-1b5f-419d-8706-79403ce8ed18"
      },
      "execution_count": 50,
      "outputs": [
        {
          "output_type": "stream",
          "name": "stdout",
          "text": [
            "Chi-Square Value: 31.056116455675454\n",
            "P-value: 0.00013730864273814864\n",
            "Degrees of Freedom: 8\n",
            "Expected Frequencies:\n",
            "[[3.47904086e+02 5.09591387e+00]\n",
            " [3.95211157e+02 5.78884267e+00]\n",
            " [1.65870418e+03 2.42958160e+01]\n",
            " [6.59342305e+02 9.65769513e+00]\n",
            " [2.66102276e+02 3.89772449e+00]\n",
            " [3.83384390e+02 5.61561047e+00]\n",
            " [1.46849034e+02 2.15096648e+00]\n",
            " [5.32204551e+01 7.79544898e-01]\n",
            " [1.17282114e+02 1.71788598e+00]]\n"
          ]
        }
      ]
    },
    {
      "cell_type": "code",
      "source": [
        "# Perform the chi-square test - education_2003_revision and manner_of_death - sampled data\n",
        "chi2, p, dof, expected_edu2 = chi2_contingency(education_2003_revision_manner_of_death_crosstab2)\n",
        "\n",
        "# Print the results\n",
        "print(f\"Chi-Square Value: {chi2}\")\n",
        "print(f\"P-value: {p}\")\n",
        "print(f\"Degrees of Freedom: {dof}\")\n",
        "print(\"Expected Frequencies:\")\n",
        "print(expected_edu2)"
      ],
      "metadata": {
        "id": "-9ZX_IQzrHSy",
        "colab": {
          "base_uri": "https://localhost:8080/"
        },
        "outputId": "6e380dde-7b8f-45a6-9206-3c94eabb5cc7"
      },
      "execution_count": 51,
      "outputs": [
        {
          "output_type": "stream",
          "name": "stdout",
          "text": [
            "Chi-Square Value: 15.044531416058865\n",
            "P-value: 0.05828533636310863\n",
            "Degrees of Freedom: 8\n",
            "Expected Frequencies:\n",
            "[[1.09098695e+02 1.90130506e+00]\n",
            " [1.32687602e+02 2.31239804e+00]\n",
            " [4.73743883e+02 8.25611746e+00]\n",
            " [1.85762643e+02 3.23735726e+00]\n",
            " [8.74755302e+01 1.52446982e+00]\n",
            " [1.21876020e+02 2.12398042e+00]\n",
            " [4.02977162e+01 7.02283850e-01]\n",
            " [1.67088091e+01 2.91190865e-01]\n",
            " [3.73491028e+01 6.50897227e-01]]\n"
          ]
        }
      ]
    },
    {
      "cell_type": "markdown",
      "source": [
        "month_of_death and manner_of_death"
      ],
      "metadata": {
        "id": "4lbCnDGDrG-s"
      }
    },
    {
      "cell_type": "code",
      "source": [
        "# Create a cross-tabulation (crosstab) between month_of_death and manner_of_death - original data\n",
        "month_of_death_manner_of_death_crosstab = pd.crosstab(new_death['month_of_death'], new_death['manner_of_death'])\n",
        "\n",
        "# Print the cross-tabulation\n",
        "print(\"Cross-Tabulation between month_of_death and manner_of_death: Original\")\n",
        "print(month_of_death_manner_of_death_crosstab)"
      ],
      "metadata": {
        "id": "B4DaGjZMrGvW"
      },
      "execution_count": null,
      "outputs": []
    },
    {
      "cell_type": "code",
      "source": [
        "# Create a cross-tabulation (crosstab) between month_of_death and manner_of_death - sampled data\n",
        "month_of_death_manner_of_death_crosstab2 = pd.crosstab(sampled_df['month_of_death'], sampled_df['manner_of_death'])\n",
        "\n",
        "# Print the cross-tabulation\n",
        "print(\"Cross-Tabulation between month_of_death and manner_of_death: Sampled\")\n",
        "print(month_of_death_manner_of_death_crosstab2)"
      ],
      "metadata": {
        "id": "bnPfH_PHrGnS"
      },
      "execution_count": null,
      "outputs": []
    },
    {
      "cell_type": "code",
      "source": [
        "# Perform the chi-square test - month_of_death and manner_of_death - original data\n",
        "chi2, p, dof, expected_month = chi2_contingency(month_of_death_manner_of_death_crosstab)\n",
        "\n",
        "# Print the results\n",
        "print(f\"Chi-Square Value: {chi2}\")\n",
        "print(f\"P-value: {p}\")\n",
        "print(f\"Degrees of Freedom: {dof}\")\n",
        "print(\"Expected Frequencies:\")\n",
        "print(expected_month)"
      ],
      "metadata": {
        "id": "0lZELH8UrGfN"
      },
      "execution_count": null,
      "outputs": []
    },
    {
      "cell_type": "code",
      "source": [
        "# Perform the chi-square test - month_of_death and manner_of_death - Sampled data\n",
        "chi2, p, dof, expected_month2 = chi2_contingency(month_of_death_manner_of_death_crosstab2)\n",
        "\n",
        "# Print the results\n",
        "print(f\"Chi-Square Value: {chi2}\")\n",
        "print(f\"P-value: {p}\")\n",
        "print(f\"Degrees of Freedom: {dof}\")\n",
        "print(\"Expected Frequencies:\")\n",
        "print(expected_month2)"
      ],
      "metadata": {
        "id": "gJbq1e0rrGXQ"
      },
      "execution_count": null,
      "outputs": []
    },
    {
      "cell_type": "markdown",
      "source": [
        "sex and manner_of_death\n",
        "\n",
        "\n"
      ],
      "metadata": {
        "id": "VVGL3tHFp3Iw"
      }
    },
    {
      "cell_type": "code",
      "source": [
        "# Create a cross-tabulation (crosstab) between sex and manner_of_death - original data\n",
        "sex_manner_of_death_crosstab = pd.crosstab(new_death['sex'], new_death['manner_of_death'])\n",
        "\n",
        "# Print the cross-tabulation\n",
        "print(\"Cross-Tabulation between sex and manner_of_death:\")\n",
        "print(sex_manner_of_death_crosstab)"
      ],
      "metadata": {
        "id": "wfYx2cccmbKf"
      },
      "execution_count": null,
      "outputs": []
    },
    {
      "cell_type": "code",
      "source": [
        "# Create a cross-tabulation (crosstab) between sex and manner_of_death - sampled data\n",
        "sex_manner_of_death_crosstab2 = pd.crosstab(sampled_df['sex'], sampled_df['manner_of_death'])\n",
        "\n",
        "# Print the cross-tabulation\n",
        "print(\"Cross-Tabulation between sex and manner_of_death:\")\n",
        "print(sex_manner_of_death_crosstab2)"
      ],
      "metadata": {
        "id": "jlZVR5D5nJ_f"
      },
      "execution_count": null,
      "outputs": []
    },
    {
      "cell_type": "code",
      "source": [
        "# Perform the chi-square test - Original Data sex and manner_of_death\n",
        "chi2, p, dof, expected_sex = chi2_contingency(sex_manner_of_death_crosstab)\n",
        "\n",
        "# Print the results\n",
        "print(f\"Chi-Square Value: {chi2}\")\n",
        "print(f\"P-value: {p}\")\n",
        "print(f\"Degrees of Freedom: {dof}\")\n",
        "print(\"Expected Frequencies:\")\n",
        "print(expected_sex)"
      ],
      "metadata": {
        "id": "HjNp92Ydo64x"
      },
      "execution_count": null,
      "outputs": []
    },
    {
      "cell_type": "code",
      "source": [
        "# Perform the chi-square test - Sampled Data sex and manner_of_death\n",
        "chi2, p, dof, expected2 = chi2_contingency(sex_manner_of_death_crosstab2)\n",
        "\n",
        "# Print the results\n",
        "print(f\"Chi-Square Value: {chi2}\")\n",
        "print(f\"P-value: {p}\")\n",
        "print(f\"Degrees of Freedom: {dof}\")\n",
        "print(\"Expected Frequencies:\")\n",
        "print(expected2)"
      ],
      "metadata": {
        "id": "Xo9PGI3mpbnH"
      },
      "execution_count": null,
      "outputs": []
    },
    {
      "cell_type": "markdown",
      "source": [
        "place_of_death_and_decedents_status and manner_of_death"
      ],
      "metadata": {
        "id": "nLbmyosJxP3E"
      }
    },
    {
      "cell_type": "code",
      "source": [
        "# Create a cross-tabulation (crosstab) between place_of_death_and_decedents_status and manner_of_death - original data\n",
        "place_of_death_and_decedents_status_manner_of_death_crosstab = pd.crosstab(new_death['place_of_death_and_decedents_status'], new_death['manner_of_death'])\n",
        "\n",
        "# Print the cross-tabulation\n",
        "print(\"Cross-Tabulation between place_of_death_and_decedents_status and manner_of_death: Original\")\n",
        "print(place_of_death_and_decedents_status_manner_of_death_crosstab)"
      ],
      "metadata": {
        "id": "nQdfvJpIxRg3"
      },
      "execution_count": null,
      "outputs": []
    },
    {
      "cell_type": "code",
      "source": [
        "# Create a cross-tabulation (crosstab) between sex and manner_of_death - sampled data\n",
        "place_of_death_and_decedents_status_manner_of_death_crosstab2 = pd.crosstab(sampled_df['place_of_death_and_decedents_status'], sampled_df['manner_of_death'])\n",
        "\n",
        "# Print the cross-tabulation\n",
        "print(\"Cross-Tabulation between place_of_death_and_decedents_status and manner_of_death: Sampled\")\n",
        "print(place_of_death_and_decedents_status_manner_of_death_crosstab2)"
      ],
      "metadata": {
        "id": "_MNq1PUXxRVj"
      },
      "execution_count": null,
      "outputs": []
    },
    {
      "cell_type": "code",
      "source": [
        "# Perform the chi-square test - Original Data place_of_death_and_decedents_status and manner_of_death\n",
        "chi2, p, dof, expected_place = chi2_contingency(place_of_death_and_decedents_status_manner_of_death_crosstab)\n",
        "\n",
        "# Print the results\n",
        "print(f\"Chi-Square Value: {chi2}\")\n",
        "print(f\"P-value: {p}\")\n",
        "print(f\"Degrees of Freedom: {dof}\")\n",
        "print(\"Expected Frequencies:\")\n",
        "print(expected_place)"
      ],
      "metadata": {
        "id": "MwEqKaBnxRRU"
      },
      "execution_count": null,
      "outputs": []
    },
    {
      "cell_type": "code",
      "source": [
        "# Perform the chi-square test - Original Data place_of_death_and_decedents_status and manner_of_death\n",
        "chi2, p, dof, expected_place2 = chi2_contingency(place_of_death_and_decedents_status_manner_of_death_crosstab2)\n",
        "\n",
        "# Print the results\n",
        "print(f\"Chi-Square Value: {chi2}\")\n",
        "print(f\"P-value: {p}\")\n",
        "print(f\"Degrees of Freedom: {dof}\")\n",
        "print(\"Expected Frequencies:\")\n",
        "print(expected_place2)"
      ],
      "metadata": {
        "id": "w9m38bNuxRNj"
      },
      "execution_count": null,
      "outputs": []
    },
    {
      "cell_type": "markdown",
      "source": [
        "marital_status and manner_of_death"
      ],
      "metadata": {
        "id": "l4JLSET2xe0h"
      }
    },
    {
      "cell_type": "code",
      "source": [
        "# Create a cross-tabulation (crosstab) between marital_status and manner_of_death - original data\n",
        "marital_status_manner_of_death_crosstab = pd.crosstab(new_death['marital_status'], new_death['manner_of_death'])\n",
        "\n",
        "# Print the cross-tabulation\n",
        "print(\"Cross-Tabulation between marital_status and manner_of_death: Original\")\n",
        "print(marital_status_manner_of_death_crosstab)"
      ],
      "metadata": {
        "id": "3GlGcwtexS0J"
      },
      "execution_count": null,
      "outputs": []
    },
    {
      "cell_type": "code",
      "source": [
        "# Create a cross-tabulation (crosstab) between marital_status and manner_of_death - sampled data\n",
        "marital_status_manner_of_death_crosstab2 = pd.crosstab(sampled_df['marital_status'], sampled_df['manner_of_death'])\n",
        "\n",
        "# Print the cross-tabulation\n",
        "print(\"Cross-Tabulation between marital_status and manner_of_death: Sampled\")\n",
        "print(marital_status_manner_of_death_crosstab2)"
      ],
      "metadata": {
        "id": "hxFxtAYGxScS"
      },
      "execution_count": null,
      "outputs": []
    },
    {
      "cell_type": "code",
      "source": [
        "# Perform the chi-square test - marital_status and manner_of_death - original data\n",
        "chi2, p, dof, expected_marital = chi2_contingency(marital_status_manner_of_death_crosstab)\n",
        "\n",
        "# Print the results\n",
        "print(f\"Chi-Square Value: {chi2}\")\n",
        "print(f\"P-value: {p}\")\n",
        "print(f\"Degrees of Freedom: {dof}\")\n",
        "print(\"Expected Frequencies:\")\n",
        "print(expected_marital)"
      ],
      "metadata": {
        "id": "VoQCs6dwxSZW"
      },
      "execution_count": null,
      "outputs": []
    },
    {
      "cell_type": "code",
      "source": [
        "# Perform the chi-square test - marital_status and manner_of_death - original data\n",
        "chi2, p, dof, expected_marital2 = chi2_contingency(marital_status_manner_of_death_crosstab2)\n",
        "\n",
        "# Print the results\n",
        "print(f\"Chi-Square Value: {chi2}\")\n",
        "print(f\"P-value: {p}\")\n",
        "print(f\"Degrees of Freedom: {dof}\")\n",
        "print(\"Expected Frequencies:\")\n",
        "print(expected_marital2)"
      ],
      "metadata": {
        "id": "VWgHsO_7xSWQ"
      },
      "execution_count": null,
      "outputs": []
    },
    {
      "cell_type": "markdown",
      "source": [
        "day_of_week_of_death and manner_of_death"
      ],
      "metadata": {
        "id": "iw4B7xEgxSBp"
      }
    },
    {
      "cell_type": "code",
      "source": [
        "# Create a cross-tabulation (crosstab) between day_of_week_of_death and manner_of_death - original data\n",
        "day_of_week_of_death_manner_of_death_crosstab = pd.crosstab(new_death['day_of_week_of_death'], new_death['manner_of_death'])\n",
        "\n",
        "# Print the cross-tabulation\n",
        "print(\"Cross-Tabulation between day_of_week_of_death and manner_of_death: Original\")\n",
        "print(day_of_week_of_death_manner_of_death_crosstab)"
      ],
      "metadata": {
        "id": "wVknELgMz2kZ",
        "colab": {
          "base_uri": "https://localhost:8080/"
        },
        "outputId": "7186c715-cf97-4b68-d025-304eda786887"
      },
      "execution_count": 54,
      "outputs": [
        {
          "output_type": "stream",
          "name": "stdout",
          "text": [
            "Cross-Tabulation between day_of_week_of_death and manner_of_death: Original\n",
            "manner_of_death        0.0  1.0\n",
            "day_of_week_of_death           \n",
            "1.0                   3692   44\n",
            "2.0                   3683   39\n",
            "3.0                   3514   30\n",
            "4.0                   3594   27\n",
            "5.0                   3754   30\n",
            "6.0                   3717   23\n",
            "7.0                   3803   41\n"
          ]
        }
      ]
    },
    {
      "cell_type": "code",
      "source": [
        "# Create a cross-tabulation (crosstab) between day_of_week_of_death and manner_of_death - sampled data\n",
        "day_of_week_of_death_manner_of_death_crosstab2 = pd.crosstab(sampled_df['day_of_week_of_death'], sampled_df['manner_of_death'])\n",
        "\n",
        "# Print the cross-tabulation\n",
        "print(\"Cross-Tabulation between day_of_week_of_death and manner_of_death: Sampled\")\n",
        "print(day_of_week_of_death_manner_of_death_crosstab2)"
      ],
      "metadata": {
        "id": "zYuOZzSNz2cH",
        "colab": {
          "base_uri": "https://localhost:8080/"
        },
        "outputId": "bace1c18-128b-42b6-a7e4-e15ecd73da0c"
      },
      "execution_count": 55,
      "outputs": [
        {
          "output_type": "stream",
          "name": "stdout",
          "text": [
            "Cross-Tabulation between day_of_week_of_death and manner_of_death: Sampled\n",
            "manner_of_death       0.0  1.0\n",
            "day_of_week_of_death          \n",
            "1.0                   168    8\n",
            "2.0                   160    3\n",
            "3.0                   182    1\n",
            "4.0                   186    1\n",
            "5.0                   177    4\n",
            "6.0                   163    1\n",
            "7.0                   169    3\n"
          ]
        }
      ]
    },
    {
      "cell_type": "code",
      "source": [
        "# Perform the chi-square test - day_of_week_of_death and manner_of_death - original data\n",
        "chi2, p, dof, expected_day = chi2_contingency(day_of_week_of_death_manner_of_death_crosstab)\n",
        "\n",
        "# Print the results\n",
        "print(f\"Chi-Square Value: {chi2}\")\n",
        "print(f\"P-value: {p}\")\n",
        "print(f\"Degrees of Freedom: {dof}\")\n",
        "print(\"Expected Frequencies:\")\n",
        "print(expected_day)"
      ],
      "metadata": {
        "id": "qYicDpWjz2NB",
        "colab": {
          "base_uri": "https://localhost:8080/"
        },
        "outputId": "236ec8cb-ca22-4823-d2fc-22e2c786de1d"
      },
      "execution_count": 56,
      "outputs": [
        {
          "output_type": "stream",
          "name": "stdout",
          "text": [
            "Chi-Square Value: 10.310569925232986\n",
            "P-value: 0.11216789887684568\n",
            "Degrees of Freedom: 6\n",
            "Expected Frequencies:\n",
            "[[3702.36435689   33.63564311]\n",
            " [3688.49040052   33.50959948]\n",
            " [3512.09295525   31.90704475]\n",
            " [3588.39971529   32.60028471]\n",
            " [3749.9322073    34.0677927 ]\n",
            " [3706.32834443   33.67165557]\n",
            " [3809.39202031   34.60797969]]\n"
          ]
        }
      ]
    },
    {
      "cell_type": "code",
      "source": [
        "# Perform the chi-square test - day_of_week_of_death and manner_of_death - sampled data\n",
        "chi2, p, dof, expected_day2 = chi2_contingency(day_of_week_of_death_manner_of_death_crosstab2)\n",
        "\n",
        "# Print the results\n",
        "print(f\"Chi-Square Value: {chi2}\")\n",
        "print(f\"P-value: {p}\")\n",
        "print(f\"Degrees of Freedom: {dof}\")\n",
        "print(\"Expected Frequencies:\")\n",
        "print(expected_day2)"
      ],
      "metadata": {
        "colab": {
          "base_uri": "https://localhost:8080/"
        },
        "id": "enRKqPC_Fe4v",
        "outputId": "327f82d9-8c7d-4ab7-d5c6-85352325fab4"
      },
      "execution_count": 57,
      "outputs": [
        {
          "output_type": "stream",
          "name": "stdout",
          "text": [
            "Chi-Square Value: 12.876246067723777\n",
            "P-value: 0.045043807751598504\n",
            "Degrees of Freedom: 6\n",
            "Expected Frequencies:\n",
            "[[172.98531811   3.01468189]\n",
            " [160.20799347   2.79200653]\n",
            " [179.86541599   3.13458401]\n",
            " [183.79690049   3.20309951]\n",
            " [177.89967374   3.10032626]\n",
            " [161.1908646    2.8091354 ]\n",
            " [169.05383361   2.94616639]]\n"
          ]
        }
      ]
    },
    {
      "cell_type": "markdown",
      "source": [
        " injury_at_work and manner_of_death"
      ],
      "metadata": {
        "id": "U89gCOpmF7sn"
      }
    },
    {
      "cell_type": "code",
      "source": [
        "# Create a cross-tabulation (crosstab) between  injury_at_work and manner_of_death - original data\n",
        "injury_at_work_manner_of_death_crosstab = pd.crosstab(new_death['injury_at_work'], new_death['manner_of_death'])\n",
        "\n",
        "# Print the cross-tabulation\n",
        "print(\"Cross-Tabulation between injury_at_work and manner_of_death: Original\")\n",
        "print(injury_at_work_manner_of_death_crosstab)"
      ],
      "metadata": {
        "colab": {
          "base_uri": "https://localhost:8080/"
        },
        "id": "12ELk1Q2F7SH",
        "outputId": "a80d8e1d-9086-4d3b-d4cb-e9ce45432635"
      },
      "execution_count": 58,
      "outputs": [
        {
          "output_type": "stream",
          "name": "stdout",
          "text": [
            "Cross-Tabulation between day_of_week_of_death and manner_of_death: Original\n",
            "manner_of_death    0.0  1.0\n",
            "injury_at_work             \n",
            "N                 1638  226\n",
            "U                24080    6\n",
            "Y                   39    2\n"
          ]
        }
      ]
    },
    {
      "cell_type": "code",
      "source": [
        "# Create a cross-tabulation (crosstab) between injury_at_work and manner_of_death - sampled data\n",
        "injury_at_work_manner_of_death_crosstab2 = pd.crosstab(sampled_df['injury_at_work'], sampled_df['manner_of_death'])\n",
        "\n",
        "# Print the cross-tabulation\n",
        "print(\"Cross-Tabulation between injury_at_work and manner_of_death: Sampled\")\n",
        "print(injury_at_work_manner_of_death_crosstab2)"
      ],
      "metadata": {
        "colab": {
          "base_uri": "https://localhost:8080/"
        },
        "id": "X65UcpetF7PG",
        "outputId": "fd954061-b51e-49b5-e076-a6617b814dfe"
      },
      "execution_count": 59,
      "outputs": [
        {
          "output_type": "stream",
          "name": "stdout",
          "text": [
            "Cross-Tabulation between day_of_week_of_death and manner_of_death: Sampled\n",
            "manner_of_death   0.0  1.0\n",
            "injury_at_work            \n",
            "N                 193   21\n",
            "U                1008    0\n",
            "Y                   4    0\n"
          ]
        }
      ]
    },
    {
      "cell_type": "code",
      "source": [
        "# Perform the chi-square test - injury_at_work and manner_of_death - Original data\n",
        "chi2, p, dof, expected_injury = chi2_contingency(injury_at_work_manner_of_death_crosstab)\n",
        "\n",
        "# Print the results\n",
        "print(f\"Chi-Square Value: {chi2}\")\n",
        "print(f\"P-value: {p}\")\n",
        "print(f\"Degrees of Freedom: {dof}\")\n",
        "print(\"Expected Frequencies:\")\n",
        "print(expected_injury)"
      ],
      "metadata": {
        "colab": {
          "base_uri": "https://localhost:8080/"
        },
        "id": "k2ji1NOPF7L9",
        "outputId": "623f0de5-af9b-4878-c480-4cdec9c7083e"
      },
      "execution_count": 60,
      "outputs": [
        {
          "output_type": "stream",
          "name": "stdout",
          "text": [
            "Chi-Square Value: 2846.1602930237323\n",
            "P-value: 0.0\n",
            "Degrees of Freedom: 2\n",
            "Expected Frequencies:\n",
            "[[1.84721819e+03 1.67818091e+01]\n",
            " [2.38691509e+04 2.16849063e+02]\n",
            " [4.06308722e+01 3.69127775e-01]]\n"
          ]
        }
      ]
    },
    {
      "cell_type": "code",
      "source": [
        "# Perform the chi-square test - injury_at_work and manner_of_death - Original data\n",
        "chi2, p, dof, expected_injury2 = chi2_contingency(injury_at_work_manner_of_death_crosstab2)\n",
        "\n",
        "# Print the results\n",
        "print(f\"Chi-Square Value: {chi2}\")\n",
        "print(f\"P-value: {p}\")\n",
        "print(f\"Degrees of Freedom: {dof}\")\n",
        "print(\"Expected Frequencies:\")\n",
        "print(expected_injury2)"
      ],
      "metadata": {
        "colab": {
          "base_uri": "https://localhost:8080/"
        },
        "id": "4uIBHdMHG59E",
        "outputId": "942a74ff-c894-48bc-d19b-3516b3e4bb16"
      },
      "execution_count": 61,
      "outputs": [
        {
          "output_type": "stream",
          "name": "stdout",
          "text": [
            "Chi-Square Value: 101.03909721952924\n",
            "P-value: 1.1471991341409945e-22\n",
            "Degrees of Freedom: 2\n",
            "Expected Frequencies:\n",
            "[[2.10334421e+02 3.66557912e+00]\n",
            " [9.90734095e+02 1.72659054e+01]\n",
            " [3.93148450e+00 6.85154976e-02]]\n"
          ]
        }
      ]
    },
    {
      "cell_type": "markdown",
      "source": [
        "method_of_disposition and manner_of_death"
      ],
      "metadata": {
        "id": "B1HBpTraHEVm"
      }
    },
    {
      "cell_type": "code",
      "source": [
        "# Create a cross-tabulation (crosstab) between method_of_disposition and manner_of_death - original data\n",
        "method_of_disposition_manner_of_death_crosstab = pd.crosstab(new_death['method_of_disposition'], new_death['manner_of_death'])\n",
        "\n",
        "# Print the cross-tabulation\n",
        "print(\"Cross-Tabulation between method_of_disposition and manner_of_death: Original\")\n",
        "print(method_of_disposition_manner_of_death_crosstab)"
      ],
      "metadata": {
        "colab": {
          "base_uri": "https://localhost:8080/"
        },
        "id": "reIA5X3gHD-X",
        "outputId": "a58ab9aa-90d3-4d7b-bd56-6904da5b7258"
      },
      "execution_count": 62,
      "outputs": [
        {
          "output_type": "stream",
          "name": "stdout",
          "text": [
            "Cross-Tabulation between method_of_disposition and manner_of_death: Original\n",
            "manner_of_death          0.0  1.0\n",
            "method_of_disposition            \n",
            "B                       1166   31\n",
            "C                       2672   19\n",
            "D                          1    0\n",
            "O                          5    0\n",
            "R                        179    9\n",
            "U                      21734  175\n"
          ]
        }
      ]
    },
    {
      "cell_type": "code",
      "source": [
        "# Create a cross-tabulation (crosstab) between method_of_disposition and manner_of_death - Sampled data\n",
        "method_of_disposition_manner_of_death_crosstab2 = pd.crosstab(sampled_df['method_of_disposition'], sampled_df['manner_of_death'])\n",
        "\n",
        "# Print the cross-tabulation\n",
        "print(\"Cross-Tabulation between method_of_disposition and manner_of_death: Sampled\")\n",
        "print(method_of_disposition_manner_of_death_crosstab2)"
      ],
      "metadata": {
        "colab": {
          "base_uri": "https://localhost:8080/"
        },
        "id": "dqZX_uQ8HD7u",
        "outputId": "f59f2e54-3004-48f2-bf57-224ba05fbacb"
      },
      "execution_count": 63,
      "outputs": [
        {
          "output_type": "stream",
          "name": "stdout",
          "text": [
            "Cross-Tabulation between method_of_disposition and manner_of_death: Sampled\n",
            "manner_of_death        0.0  1.0\n",
            "method_of_disposition          \n",
            "B                      360   11\n",
            "C                      797    8\n",
            "O                        1    0\n",
            "R                       46    2\n",
            "U                        1    0\n"
          ]
        }
      ]
    },
    {
      "cell_type": "code",
      "source": [
        "# Perform the chi-square test - method_of_disposition and manner_of_death - Original data\n",
        "chi2, p, dof, expected_method = chi2_contingency(method_of_disposition_manner_of_death_crosstab)\n",
        "\n",
        "# Print the results\n",
        "print(f\"Chi-Square Value: {chi2}\")\n",
        "print(f\"P-value: {p}\")\n",
        "print(f\"Degrees of Freedom: {dof}\")\n",
        "print(\"Expected Frequencies:\")\n",
        "print(expected_method)"
      ],
      "metadata": {
        "colab": {
          "base_uri": "https://localhost:8080/"
        },
        "id": "EsZjAI_fHDw1",
        "outputId": "c47d3ce7-ae82-4dbf-b601-8811156f6e66"
      },
      "execution_count": 64,
      "outputs": [
        {
          "output_type": "stream",
          "name": "stdout",
          "text": [
            "Chi-Square Value: 73.85519370893867\n",
            "P-value: 1.6123432095860783e-14\n",
            "Degrees of Freedom: 5\n",
            "Expected Frequencies:\n",
            "[[1.18622327e+03 1.07767304e+01]\n",
            " [2.66677261e+03 2.42273864e+01]\n",
            " [9.90996884e-01 9.00311646e-03]\n",
            " [4.95498442e+00 4.50155823e-02]\n",
            " [1.86307414e+02 1.69258590e+00]\n",
            " [2.17117507e+04 1.97249279e+02]]\n"
          ]
        }
      ]
    },
    {
      "cell_type": "code",
      "source": [
        "# Perform the chi-square test - method_of_disposition and manner_of_death - Sampled data\n",
        "chi2, p, dof, expected_method2 = chi2_contingency(method_of_disposition_manner_of_death_crosstab2)\n",
        "\n",
        "# Print the results\n",
        "print(f\"Chi-Square Value: {chi2}\")\n",
        "print(f\"P-value: {p}\")\n",
        "print(f\"Degrees of Freedom: {dof}\")\n",
        "print(\"Expected Frequencies:\")\n",
        "print(expected_method2)"
      ],
      "metadata": {
        "colab": {
          "base_uri": "https://localhost:8080/"
        },
        "id": "1PLhLJsAI5B8",
        "outputId": "c2cb4135-d1cf-4b9d-e71b-c120ecc9a914"
      },
      "execution_count": 65,
      "outputs": [
        {
          "output_type": "stream",
          "name": "stdout",
          "text": [
            "Chi-Square Value: 7.678762925582628\n",
            "P-value: 0.10408009342271254\n",
            "Degrees of Freedom: 4\n",
            "Expected Frequencies:\n",
            "[[3.64645188e+02 6.35481240e+00]\n",
            " [7.91211256e+02 1.37887439e+01]\n",
            " [9.82871126e-01 1.71288744e-02]\n",
            " [4.71778140e+01 8.22185971e-01]\n",
            " [9.82871126e-01 1.71288744e-02]]\n"
          ]
        }
      ]
    },
    {
      "cell_type": "code",
      "source": [
        "# Create a heat map\n",
        "sns.heatmap(method_of_disposition_manner_of_death_crosstab2, annot=True, cmap='YlGnBu', fmt='d')\n",
        "\n",
        "plt.title(\"Frequency Heat Map - Sampled Data\")\n",
        "plt.xlabel(\"method_of_disposition\")\n",
        "plt.ylabel(\"manner_of_death\")\n",
        "\n",
        "plt.show()"
      ],
      "metadata": {
        "colab": {
          "base_uri": "https://localhost:8080/",
          "height": 472
        },
        "id": "O0Dvd8zqN-4c",
        "outputId": "fe908a22-64d6-44c4-a77d-071f8d0ee7b6"
      },
      "execution_count": 80,
      "outputs": [
        {
          "output_type": "display_data",
          "data": {
            "text/plain": [
              "<Figure size 640x480 with 2 Axes>"
            ],
            "image/png": "[encoded data removed]"
          },
          "metadata": {}
        }
      ]
    },
    {
      "cell_type": "markdown",
      "source": [
        "autopsy and manner_of_death"
      ],
      "metadata": {
        "id": "DUyJMOcDJKO8"
      }
    },
    {
      "cell_type": "code",
      "source": [
        "# Create a cross-tabulation (crosstab) between autopsy and manner_of_death - original data\n",
        "autopsy_manner_of_death_crosstab = pd.crosstab(new_death['autopsy'], new_death['manner_of_death'])\n",
        "\n",
        "# Print the cross-tabulation\n",
        "print(\"Cross-Tabulation between autopsy and manner_of_death: Original\")\n",
        "print(autopsy_manner_of_death_crosstab)"
      ],
      "metadata": {
        "colab": {
          "base_uri": "https://localhost:8080/"
        },
        "id": "psaikybZJJ6q",
        "outputId": "19ec3b85-b6bd-4b0c-cf9a-4f0370ef2405"
      },
      "execution_count": 66,
      "outputs": [
        {
          "output_type": "stream",
          "name": "stdout",
          "text": [
            "Cross-Tabulation between autopsy and manner_of_death: Original\n",
            "manner_of_death    0.0  1.0\n",
            "autopsy                    \n",
            "N                20901    5\n",
            "U                 3468    0\n",
            "Y                 1388  229\n"
          ]
        }
      ]
    },
    {
      "cell_type": "code",
      "source": [
        "# Create a heat map\n",
        "sns.heatmap(autopsy_manner_of_death_crosstab, annot=True, cmap='YlGnBu', fmt='d')\n",
        "\n",
        "plt.title(\"Frequency Heat Map\")\n",
        "plt.xlabel(\"autopsy\")\n",
        "plt.ylabel(\"manner_of_death\")\n",
        "\n",
        "plt.show()\n"
      ],
      "metadata": {
        "colab": {
          "base_uri": "https://localhost:8080/",
          "height": 472
        },
        "id": "ppWSBc1YNjZp",
        "outputId": "2fc8955b-de4b-401c-feb2-369dd499a87c"
      },
      "execution_count": 79,
      "outputs": [
        {
          "output_type": "display_data",
          "data": {
            "text/plain": [
              "<Figure size 640x480 with 2 Axes>"
            ],
            "image/png": "[encoded data removed]"
          },
          "metadata": {}
        }
      ]
    },
    {
      "cell_type": "code",
      "source": [
        "# Create a cross-tabulation (crosstab) between autopsy and manner_of_death - Sampled data\n",
        "autopsy_manner_of_death_crosstab2 = pd.crosstab(sampled_df['autopsy'], sampled_df['manner_of_death'])\n",
        "\n",
        "# Print the cross-tabulation\n",
        "print(\"Cross-Tabulation between autopsy and manner_of_death: Sampled\")\n",
        "print(autopsy_manner_of_death_crosstab2)"
      ],
      "metadata": {
        "colab": {
          "base_uri": "https://localhost:8080/"
        },
        "id": "dbTVb2g8JJz8",
        "outputId": "b1ca82c8-392b-407b-cf14-427760d2cee6"
      },
      "execution_count": 67,
      "outputs": [
        {
          "output_type": "stream",
          "name": "stdout",
          "text": [
            "Cross-Tabulation between autopsy and manner_of_death: Sampled\n",
            "manner_of_death   0.0  1.0\n",
            "autopsy                   \n",
            "N                1065    0\n",
            "U                   2    0\n",
            "Y                 138   21\n"
          ]
        }
      ]
    },
    {
      "cell_type": "code",
      "source": [
        "# Perform the chi-square test - autopsy and manner_of_death - Original data\n",
        "chi2, p, dof, expected_autopsy = chi2_contingency(autopsy_manner_of_death_crosstab)\n",
        "\n",
        "# Print the results\n",
        "print(f\"Chi-Square Value: {chi2}\")\n",
        "print(f\"P-value: {p}\")\n",
        "print(f\"Degrees of Freedom: {dof}\")\n",
        "print(\"Expected Frequencies:\")\n",
        "print(expected_autopsy)"
      ],
      "metadata": {
        "colab": {
          "base_uri": "https://localhost:8080/"
        },
        "id": "Ee3xGUVpJJo4",
        "outputId": "b30ca901-5b80-4aa1-90ee-c769049220b3"
      },
      "execution_count": 68,
      "outputs": [
        {
          "output_type": "stream",
          "name": "stdout",
          "text": [
            "Chi-Square Value: 3398.935952826779\n",
            "P-value: 0.0\n",
            "Degrees of Freedom: 2\n",
            "Expected Frequencies:\n",
            "[[2.07177808e+04 1.88219153e+02]\n",
            " [3.43677719e+03 3.12228079e+01]\n",
            " [1.60244196e+03 1.45580393e+01]]\n"
          ]
        }
      ]
    },
    {
      "cell_type": "code",
      "source": [
        "# Perform the chi-square test - autopsy and manner_of_death - Sampled data\n",
        "chi2, p, dof, expected_autopsy2 = chi2_contingency(autopsy_manner_of_death_crosstab2)\n",
        "\n",
        "# Print the results\n",
        "print(f\"Chi-Square Value: {chi2}\")\n",
        "print(f\"P-value: {p}\")\n",
        "print(f\"Degrees of Freedom: {dof}\")\n",
        "print(\"Expected Frequencies:\")\n",
        "print(expected_autopsy2)"
      ],
      "metadata": {
        "colab": {
          "base_uri": "https://localhost:8080/"
        },
        "id": "2u6tg07sJ2Qw",
        "outputId": "3c673bbf-e0ef-4f35-c70f-90ef5c269353"
      },
      "execution_count": 70,
      "outputs": [
        {
          "output_type": "stream",
          "name": "stdout",
          "text": [
            "Chi-Square Value: 143.38047443826824\n",
            "P-value: 7.333741019222907e-32\n",
            "Degrees of Freedom: 2\n",
            "Expected Frequencies:\n",
            "[[1.04675775e+03 1.82422512e+01]\n",
            " [1.96574225e+00 3.42577488e-02]\n",
            " [1.56276509e+02 2.72349103e+00]]\n"
          ]
        }
      ]
    },
    {
      "cell_type": "markdown",
      "source": [
        "race and manner_of_death"
      ],
      "metadata": {
        "id": "EoSVY2XzKyGK"
      }
    },
    {
      "cell_type": "code",
      "source": [
        "# Create a cross-tabulation (crosstab) between race and manner_of_death - original data\n",
        "race_manner_of_death_crosstab = pd.crosstab(new_death['race'], new_death['manner_of_death'])\n",
        "\n",
        "# Print the cross-tabulation\n",
        "print(\"Cross-Tabulation between race and manner_of_death: Original\")\n",
        "print(race_manner_of_death_crosstab)"
      ],
      "metadata": {
        "colab": {
          "base_uri": "https://localhost:8080/"
        },
        "id": "DXnN6Mu4Kx0w",
        "outputId": "ea020699-51df-4270-8b17-279267d61ca0"
      },
      "execution_count": 71,
      "outputs": [
        {
          "output_type": "stream",
          "name": "stdout",
          "text": [
            "Cross-Tabulation between race and manner_of_death: Original\n",
            "manner_of_death    0.0  1.0\n",
            "race                       \n",
            "1.0              19923   85\n",
            "2.0               4662  119\n",
            "3.0                968   28\n",
            "4.0                 14    0\n",
            "5.0                 21    0\n",
            "6.0                  2    0\n",
            "7.0                 72    0\n",
            "18.0                 1    0\n",
            "28.0                30    0\n",
            "38.0                25    1\n",
            "48.0                 1    0\n",
            "68.0                31    1\n",
            "78.0                 7    0\n"
          ]
        }
      ]
    },
    {
      "cell_type": "code",
      "source": [
        "# Create a cross-tabulation (crosstab) between race and manner_of_death - sampled data\n",
        "race_manner_of_death_crosstab2 = pd.crosstab(sampled_df['race'], sampled_df['manner_of_death'])\n",
        "\n",
        "# Print the cross-tabulation\n",
        "print(\"Cross-Tabulation between race and manner_of_death: Sampled\")\n",
        "print(race_manner_of_death_crosstab2)"
      ],
      "metadata": {
        "colab": {
          "base_uri": "https://localhost:8080/"
        },
        "id": "wZkkbVSNKxqq",
        "outputId": "1e783110-114e-4475-88a1-96f08040bb06"
      },
      "execution_count": 76,
      "outputs": [
        {
          "output_type": "stream",
          "name": "stdout",
          "text": [
            "Cross-Tabulation between race and manner_of_death: Sampled\n",
            "manner_of_death  0.0  1.0\n",
            "race                     \n",
            "1.0              849    7\n",
            "2.0               44    2\n",
            "3.0              259   12\n",
            "4.0                5    0\n",
            "5.0                2    0\n",
            "6.0                1    0\n",
            "7.0               18    0\n",
            "28.0              10    0\n",
            "38.0               5    0\n",
            "68.0               9    0\n",
            "78.0               3    0\n"
          ]
        }
      ]
    },
    {
      "cell_type": "code",
      "source": [
        "# Perform the chi-square test - race and manner_of_death - Original data\n",
        "chi2, p, dof, expected_race = chi2_contingency(race_manner_of_death_crosstab)\n",
        "\n",
        "# Print the results\n",
        "print(f\"Chi-Square Value: {chi2}\")\n",
        "print(f\"P-value: {p}\")\n",
        "print(f\"Degrees of Freedom: {dof}\")\n",
        "print(\"Expected Frequencies:\")\n",
        "print(expected_race)"
      ],
      "metadata": {
        "colab": {
          "base_uri": "https://localhost:8080/"
        },
        "id": "1SVzh6XnKtYf",
        "outputId": "3fcdc090-8e21-4dee-f351-62b02fe3d556"
      },
      "execution_count": 77,
      "outputs": [
        {
          "output_type": "stream",
          "name": "stdout",
          "text": [
            "Chi-Square Value: 232.3643872853391\n",
            "P-value: 6.429288787760035e-43\n",
            "Degrees of Freedom: 12\n",
            "Expected Frequencies:\n",
            "[[1.98278656e+04 1.80134354e+02]\n",
            " [4.73795610e+03 4.30438998e+01]\n",
            " [9.87032896e+02 8.96710400e+00]\n",
            " [1.38739564e+01 1.26043630e-01]\n",
            " [2.08109346e+01 1.89065446e-01]\n",
            " [1.98199377e+00 1.80062329e-02]\n",
            " [7.13517756e+01 6.48224385e-01]\n",
            " [9.90996884e-01 9.00311646e-03]\n",
            " [2.97299065e+01 2.70093494e-01]\n",
            " [2.57659190e+01 2.34081028e-01]\n",
            " [9.90996884e-01 9.00311646e-03]\n",
            " [3.17119003e+01 2.88099727e-01]\n",
            " [6.93697818e+00 6.30218152e-02]]\n"
          ]
        }
      ]
    },
    {
      "cell_type": "code",
      "source": [
        "# Perform the chi-square test - race and manner_of_death - Sampled data\n",
        "chi2, p, dof, expected_race2 = chi2_contingency(race_manner_of_death_crosstab2)\n",
        "\n",
        "# Print the results\n",
        "print(f\"Chi-Square Value: {chi2}\")\n",
        "print(f\"P-value: {p}\")\n",
        "print(f\"Degrees of Freedom: {dof}\")\n",
        "print(\"Expected Frequencies:\")\n",
        "print(expected_race2)"
      ],
      "metadata": {
        "colab": {
          "base_uri": "https://localhost:8080/"
        },
        "id": "hEUG5QJ9LUVZ",
        "outputId": "d90caa38-0aa3-4954-fbca-5df518199565"
      },
      "execution_count": 78,
      "outputs": [
        {
          "output_type": "stream",
          "name": "stdout",
          "text": [
            "Chi-Square Value: 18.761480990896178\n",
            "P-value: 0.043398935272755595\n",
            "Degrees of Freedom: 10\n",
            "Expected Frequencies:\n",
            "[[8.41337684e+02 1.46623165e+01]\n",
            " [4.52120718e+01 7.87928222e-01]\n",
            " [2.66358075e+02 4.64192496e+00]\n",
            " [4.91435563e+00 8.56443719e-02]\n",
            " [1.96574225e+00 3.42577488e-02]\n",
            " [9.82871126e-01 1.71288744e-02]\n",
            " [1.76916803e+01 3.08319739e-01]\n",
            " [9.82871126e+00 1.71288744e-01]\n",
            " [4.91435563e+00 8.56443719e-02]\n",
            " [8.84584013e+00 1.54159869e-01]\n",
            " [2.94861338e+00 5.13866232e-02]]\n"
          ]
        }
      ]
    },
    {
      "cell_type": "code",
      "source": [
        "https://colab.research.google.com/drive/1ucg-1x5tjx1u4b1bf2cRe2qIPgyqDbV0#scrollTo=cSSUe7cjLyIp&line=1&uniqifier=1"
      ],
      "metadata": {
        "id": "WsEi2FY_JKDp"
      },
      "execution_count": null,
      "outputs": []
    },
    {
      "cell_type": "code",
      "source": [
        "\n"
      ],
      "metadata": {
        "id": "_qvZ9wjYMQIi"
      },
      "execution_count": null,
      "outputs": []
    },
    {
      "cell_type": "markdown",
      "source": [
        "Multi Index Cross-Tabulation and Chi-Square"
      ],
      "metadata": {
        "id": "pS0C_eVlMV_C"
      }
    },
    {
      "cell_type": "code",
      "source": [
        "# Create a multivariate cross-tabulation (crosstab) between selected categorical variables\n",
        "multi_index_crosstab = pd.crosstab(index=[sampled_df['education_2003_revision'], sampled_df['month_of_death'],\n",
        "                                          sampled_df['sex'], sampled_df['place_of_death_and_decedents_status']],\n",
        "                                   columns=sampled_df['manner_of_death'])\n",
        "\n",
        "# Print the multi-index cross-tabulation\n",
        "print(\"Multi-Index Cross-Tabulation:\")\n",
        "print(multi_index_crosstab)"
      ],
      "metadata": {
        "colab": {
          "base_uri": "https://localhost:8080/"
        },
        "outputId": "74931d65-3f60-45d2-9d3b-e4bd1211231c",
        "id": "MoOK7RqpMV_H"
      },
      "execution_count": null,
      "outputs": [
        {
          "output_type": "stream",
          "name": "stdout",
          "text": [
            "Multi-Index Cross-Tabulation:\n",
            "manner_of_death                                                                 0.0  \\\n",
            "education_2003_revision month_of_death sex place_of_death_and_decedents_status        \n",
            "1.0                     1              F   1.0                                    3   \n",
            "                                           2.0                                    1   \n",
            "                                           4.0                                    2   \n",
            "                                           6.0                                    2   \n",
            "                                       M   1.0                                    2   \n",
            "...                                                                             ...   \n",
            "9.0                     11             M   2.0                                    1   \n",
            "                                           4.0                                    1   \n",
            "                        12             M   2.0                                    1   \n",
            "                                           4.0                                    2   \n",
            "                                           6.0                                    1   \n",
            "\n",
            "manner_of_death                                                                 1.0  \n",
            "education_2003_revision month_of_death sex place_of_death_and_decedents_status       \n",
            "1.0                     1              F   1.0                                    0  \n",
            "                                           2.0                                    0  \n",
            "                                           4.0                                    0  \n",
            "                                           6.0                                    0  \n",
            "                                       M   1.0                                    0  \n",
            "...                                                                             ...  \n",
            "9.0                     11             M   2.0                                    0  \n",
            "                                           4.0                                    0  \n",
            "                        12             M   2.0                                    0  \n",
            "                                           4.0                                    0  \n",
            "                                           6.0                                    0  \n",
            "\n",
            "[521 rows x 2 columns]\n"
          ]
        }
      ]
    },
    {
      "cell_type": "code",
      "source": [
        "# Perform the chi-square test - multi_index_crosstab2 - Sampled Data\n",
        "chi2, p, dof, expected_EMSP = chi2_contingency(multi_index_crosstab)\n",
        "\n",
        "# Print the results\n",
        "print(f\"Chi-Square Value: {chi2}\")\n",
        "print(f\"P-value: {p}\")\n",
        "print(f\"Degrees of Freedom: {dof}\")\n",
        "print(\"Expected Frequencies:\")\n",
        "print(expected_EMSP)"
      ],
      "metadata": {
        "colab": {
          "base_uri": "https://localhost:8080/"
        },
        "outputId": "de705be6-f047-4433-eef4-73765af3cdca",
        "id": "c8lB5GZOMV_H"
      },
      "execution_count": null,
      "outputs": [
        {
          "output_type": "stream",
          "name": "stdout",
          "text": [
            "Chi-Square Value: 462.2035787387192\n",
            "P-value: 0.9672906173606369\n",
            "Degrees of Freedom: 520\n",
            "Expected Frequencies:\n",
            "[[2.94861338 0.05138662]\n",
            " [0.98287113 0.01712887]\n",
            " [1.96574225 0.03425775]\n",
            " ...\n",
            " [0.98287113 0.01712887]\n",
            " [1.96574225 0.03425775]\n",
            " [0.98287113 0.01712887]]\n"
          ]
        }
      ]
    },
    {
      "cell_type": "code",
      "source": [
        "# Create a multivariate cross-tabulation (crosstab) between selected categorical variables and 'manner_of_death'\n",
        "multi_index_crosstab2 = pd.crosstab(index=[sampled_df['marital_status'], sampled_df['day_of_week_of_death'],\n",
        "                                          sampled_df['injury_at_work'], sampled_df['method_of_disposition']],\n",
        "                                   columns=sampled_df['manner_of_death'])\n",
        "\n",
        "# Print the multi-index cross-tabulation\n",
        "print(\"Multi-Index Cross-Tabulation:\")\n",
        "print(multi_index_crosstab2)"
      ],
      "metadata": {
        "colab": {
          "base_uri": "https://localhost:8080/"
        },
        "outputId": "99a3863b-ceb4-4ea6-9400-8df30c60549b",
        "id": "J5lonhd2MV_I"
      },
      "execution_count": null,
      "outputs": [
        {
          "output_type": "stream",
          "name": "stdout",
          "text": [
            "Multi-Index Cross-Tabulation:\n",
            "manner_of_death                                                           0.0  \\\n",
            "marital_status day_of_week_of_death injury_at_work method_of_disposition        \n",
            "D              1.0                  N              B                        1   \n",
            "                                                   C                        6   \n",
            "                                    U              B                        6   \n",
            "                                                   C                       19   \n",
            "                                                   R                        1   \n",
            "...                                                                       ...   \n",
            "W              7.0                  N              C                        3   \n",
            "                                                   R                        1   \n",
            "                                    U              B                       12   \n",
            "                                                   C                       31   \n",
            "                                                   R                        1   \n",
            "\n",
            "manner_of_death                                                           1.0  \n",
            "marital_status day_of_week_of_death injury_at_work method_of_disposition       \n",
            "D              1.0                  N              B                        0  \n",
            "                                                   C                        1  \n",
            "                                    U              B                        0  \n",
            "                                                   C                        0  \n",
            "                                                   R                        0  \n",
            "...                                                                       ...  \n",
            "W              7.0                  N              C                        0  \n",
            "                                                   R                        0  \n",
            "                                    U              B                        0  \n",
            "                                                   C                        0  \n",
            "                                                   R                        0  \n",
            "\n",
            "[161 rows x 2 columns]\n"
          ]
        }
      ]
    },
    {
      "cell_type": "code",
      "source": [
        "# Perform the chi-square test - multi_index_crosstab2 - Sampled Data\n",
        "chi2, p, dof, expected_MDIM = chi2_contingency(multi_index_crosstab2)\n",
        "\n",
        "# Print the results\n",
        "print(f\"Chi-Square Value: {chi2}\")\n",
        "print(f\"P-value: {p}\")\n",
        "print(f\"Degrees of Freedom: {dof}\")\n",
        "print(\"Expected Frequencies:\")\n",
        "print(expected_MDIM)"
      ],
      "metadata": {
        "colab": {
          "base_uri": "https://localhost:8080/"
        },
        "outputId": "c8fd6355-9b70-41c0-cc30-cfa05ff5b0c3",
        "id": "Ijlz7IE6MV_I"
      },
      "execution_count": null,
      "outputs": [
        {
          "output_type": "stream",
          "name": "stdout",
          "text": [
            "Chi-Square Value: 443.2849218580931\n",
            "P-value: 1.9346616919377536e-28\n",
            "Degrees of Freedom: 160\n",
            "Expected Frequencies:\n",
            "[[9.82871126e-01 1.71288744e-02]\n",
            " [6.88009788e+00 1.19902121e-01]\n",
            " [5.89722675e+00 1.02773246e-01]\n",
            " [1.86745514e+01 3.25448613e-01]\n",
            " [9.82871126e-01 1.71288744e-02]\n",
            " [9.82871126e-01 1.71288744e-02]\n",
            " [4.91435563e+00 8.56443719e-02]\n",
            " [4.91435563e+00 8.56443719e-02]\n",
            " [2.35889070e+01 4.11092985e-01]\n",
            " [9.82871126e-01 1.71288744e-02]\n",
            " [9.82871126e-01 1.71288744e-02]\n",
            " [8.84584013e+00 1.54159869e-01]\n",
            " [1.08115824e+01 1.88417618e-01]\n",
            " [2.75203915e+01 4.79608483e-01]\n",
            " [1.96574225e+00 3.42577488e-02]\n",
            " [9.82871126e-01 1.71288744e-02]\n",
            " [1.96574225e+00 3.42577488e-02]\n",
            " [9.82871126e-01 1.71288744e-02]\n",
            " [6.88009788e+00 1.19902121e-01]\n",
            " [3.04690049e+01 5.30995106e-01]\n",
            " [9.82871126e-01 1.71288744e-02]\n",
            " [9.82871126e-01 1.71288744e-02]\n",
            " [9.82871126e-01 1.71288744e-02]\n",
            " [5.89722675e+00 1.02773246e-01]\n",
            " [8.84584013e+00 1.54159869e-01]\n",
            " [2.06402936e+01 3.59706362e-01]\n",
            " [1.96574225e+00 3.42577488e-02]\n",
            " [9.82871126e-01 1.71288744e-02]\n",
            " [1.96574225e+00 3.42577488e-02]\n",
            " [1.08115824e+01 1.88417618e-01]\n",
            " [2.26060359e+01 3.93964111e-01]\n",
            " [3.93148450e+00 6.85154976e-02]\n",
            " [1.96574225e+00 3.42577488e-02]\n",
            " [1.96574225e+00 3.42577488e-02]\n",
            " [3.93148450e+00 6.85154976e-02]\n",
            " [2.16231648e+01 3.76835237e-01]\n",
            " [1.96574225e+00 3.42577488e-02]\n",
            " [4.91435563e+00 8.56443719e-02]\n",
            " [1.96574225e+00 3.42577488e-02]\n",
            " [1.47430669e+01 2.56933116e-01]\n",
            " [3.53833605e+01 6.16639478e-01]\n",
            " [1.96574225e+00 3.42577488e-02]\n",
            " [9.82871126e-01 1.71288744e-02]\n",
            " [9.82871126e-01 1.71288744e-02]\n",
            " [1.08115824e+01 1.88417618e-01]\n",
            " [4.02977162e+01 7.02283850e-01]\n",
            " [9.82871126e-01 1.71288744e-02]\n",
            " [1.96574225e+00 3.42577488e-02]\n",
            " [2.94861338e+00 5.13866232e-02]\n",
            " [9.82871126e-01 1.71288744e-02]\n",
            " [2.16231648e+01 3.76835237e-01]\n",
            " [3.24347471e+01 5.65252855e-01]\n",
            " [1.96574225e+00 3.42577488e-02]\n",
            " [2.94861338e+00 5.13866232e-02]\n",
            " [8.84584013e+00 1.54159869e-01]\n",
            " [9.82871126e-01 1.71288744e-02]\n",
            " [1.27773246e+01 2.22675367e-01]\n",
            " [3.83319739e+01 6.68026101e-01]\n",
            " [1.96574225e+00 3.42577488e-02]\n",
            " [1.96574225e+00 3.42577488e-02]\n",
            " [5.89722675e+00 1.02773246e-01]\n",
            " [1.37601958e+01 2.39804241e-01]\n",
            " [3.24347471e+01 5.65252855e-01]\n",
            " [1.96574225e+00 3.42577488e-02]\n",
            " [9.82871126e-01 1.71288744e-02]\n",
            " [2.94861338e+00 5.13866232e-02]\n",
            " [9.82871126e-01 1.71288744e-02]\n",
            " [9.82871126e-01 1.71288744e-02]\n",
            " [1.57259380e+01 2.74061990e-01]\n",
            " [3.14518760e+01 5.48123980e-01]\n",
            " [1.96574225e+00 3.42577488e-02]\n",
            " [9.82871126e-01 1.71288744e-02]\n",
            " [1.96574225e+00 3.42577488e-02]\n",
            " [3.93148450e+00 6.85154976e-02]\n",
            " [1.17944535e+01 2.05546493e-01]\n",
            " [3.83319739e+01 6.68026101e-01]\n",
            " [4.91435563e+00 8.56443719e-02]\n",
            " [1.17944535e+01 2.05546493e-01]\n",
            " [2.94861338e+00 5.13866232e-02]\n",
            " [9.82871126e+00 1.71288744e-01]\n",
            " [1.37601958e+01 2.39804241e-01]\n",
            " [9.82871126e-01 1.71288744e-02]\n",
            " [2.94861338e+00 5.13866232e-02]\n",
            " [4.91435563e+00 8.56443719e-02]\n",
            " [8.84584013e+00 1.54159869e-01]\n",
            " [9.82871126e+00 1.71288744e-01]\n",
            " [9.82871126e-01 1.71288744e-02]\n",
            " [4.91435563e+00 8.56443719e-02]\n",
            " [7.86296900e+00 1.37030995e-01]\n",
            " [6.88009788e+00 1.19902121e-01]\n",
            " [6.88009788e+00 1.19902121e-01]\n",
            " [3.93148450e+00 6.85154976e-02]\n",
            " [2.94861338e+00 5.13866232e-02]\n",
            " [9.82871126e-01 1.71288744e-02]\n",
            " [4.91435563e+00 8.56443719e-02]\n",
            " [9.82871126e+00 1.71288744e-01]\n",
            " [9.82871126e-01 1.71288744e-02]\n",
            " [9.82871126e-01 1.71288744e-02]\n",
            " [6.88009788e+00 1.19902121e-01]\n",
            " [4.91435563e+00 8.56443719e-02]\n",
            " [9.82871126e-01 1.71288744e-02]\n",
            " [9.82871126e+00 1.71288744e-01]\n",
            " [1.67088091e+01 2.91190865e-01]\n",
            " [7.86296900e+00 1.37030995e-01]\n",
            " [9.82871126e+00 1.71288744e-01]\n",
            " [9.82871126e-01 1.71288744e-02]\n",
            " [3.93148450e+00 6.85154976e-02]\n",
            " [4.91435563e+00 8.56443719e-02]\n",
            " [4.91435563e+00 8.56443719e-02]\n",
            " [5.89722675e+00 1.02773246e-01]\n",
            " [1.08115824e+01 1.88417618e-01]\n",
            " [6.88009788e+00 1.19902121e-01]\n",
            " [9.82871126e-01 1.71288744e-02]\n",
            " [9.82871126e-01 1.71288744e-02]\n",
            " [9.82871126e-01 1.71288744e-02]\n",
            " [9.82871126e-01 1.71288744e-02]\n",
            " [1.96574225e+00 3.42577488e-02]\n",
            " [2.94861338e+00 5.13866232e-02]\n",
            " [1.96574225e+00 3.42577488e-02]\n",
            " [9.82871126e-01 1.71288744e-02]\n",
            " [9.82871126e-01 1.71288744e-02]\n",
            " [9.82871126e-01 1.71288744e-02]\n",
            " [9.82871126e-01 1.71288744e-02]\n",
            " [2.94861338e+00 5.13866232e-02]\n",
            " [9.82871126e-01 1.71288744e-02]\n",
            " [9.82871126e-01 1.71288744e-02]\n",
            " [9.82871126e-01 1.71288744e-02]\n",
            " [9.82871126e-01 1.71288744e-02]\n",
            " [9.82871126e+00 1.71288744e-01]\n",
            " [1.96574225e+01 3.42577488e-01]\n",
            " [2.94861338e+00 5.13866232e-02]\n",
            " [1.96574225e+00 3.42577488e-02]\n",
            " [9.82871126e-01 1.71288744e-02]\n",
            " [9.82871126e+00 1.71288744e-01]\n",
            " [2.65375204e+01 4.62479608e-01]\n",
            " [1.96574225e+00 3.42577488e-02]\n",
            " [9.82871126e-01 1.71288744e-02]\n",
            " [1.96574225e+00 3.42577488e-02]\n",
            " [1.27773246e+01 2.22675367e-01]\n",
            " [1.86745514e+01 3.25448613e-01]\n",
            " [9.82871126e-01 1.71288744e-02]\n",
            " [2.94861338e+00 5.13866232e-02]\n",
            " [2.94861338e+00 5.13866232e-02]\n",
            " [7.86296900e+00 1.37030995e-01]\n",
            " [3.24347471e+01 5.65252855e-01]\n",
            " [9.82871126e-01 1.71288744e-02]\n",
            " [9.82871126e-01 1.71288744e-02]\n",
            " [9.82871126e-01 1.71288744e-02]\n",
            " [9.82871126e-01 1.71288744e-02]\n",
            " [1.27773246e+01 2.22675367e-01]\n",
            " [2.35889070e+01 4.11092985e-01]\n",
            " [9.82871126e-01 1.71288744e-02]\n",
            " [6.88009788e+00 1.19902121e-01]\n",
            " [3.14518760e+01 5.48123980e-01]\n",
            " [9.82871126e-01 1.71288744e-02]\n",
            " [9.82871126e-01 1.71288744e-02]\n",
            " [2.94861338e+00 5.13866232e-02]\n",
            " [9.82871126e-01 1.71288744e-02]\n",
            " [1.17944535e+01 2.05546493e-01]\n",
            " [3.04690049e+01 5.30995106e-01]\n",
            " [9.82871126e-01 1.71288744e-02]]\n"
          ]
        }
      ]
    },
    {
      "cell_type": "code",
      "source": [
        "# Create a multivariate cross-tabulation (crosstab) between selected categorical variables and 'manner_of_death'\n",
        "multi_index_crosstab3 = pd.crosstab(index=[sampled_df['autopsy'], sampled_df['race']],\n",
        "                                   columns=sampled_df['manner_of_death'])\n",
        "\n",
        "# Print the multi-index cross-tabulation\n",
        "print(\"Multi-Index Cross-Tabulation:\")\n",
        "print(multi_index_crosstab3)"
      ],
      "metadata": {
        "colab": {
          "base_uri": "https://localhost:8080/"
        },
        "outputId": "2ca1dd5d-f241-4747-ecf7-46d65e5dacd2",
        "id": "ZL0aQfcOMV_I"
      },
      "execution_count": null,
      "outputs": [
        {
          "output_type": "stream",
          "name": "stdout",
          "text": [
            "Multi-Index Cross-Tabulation:\n",
            "manner_of_death  0.0  1.0\n",
            "autopsy race             \n",
            "N       1.0      762    0\n",
            "        2.0       37    0\n",
            "        3.0      219    0\n",
            "        4.0        5    0\n",
            "        5.0        2    0\n",
            "        6.0        1    0\n",
            "        7.0       17    0\n",
            "        28.0       8    0\n",
            "        38.0       4    0\n",
            "        68.0       8    0\n",
            "        78.0       2    0\n",
            "U       1.0        1    0\n",
            "        28.0       1    0\n",
            "Y       1.0       86    7\n",
            "        2.0        7    2\n",
            "        3.0       40   12\n",
            "        7.0        1    0\n",
            "        28.0       1    0\n",
            "        38.0       1    0\n",
            "        68.0       1    0\n",
            "        78.0       1    0\n"
          ]
        }
      ]
    },
    {
      "cell_type": "code",
      "source": [
        "# Perform the chi-square test - multi_index_crosstab3 - Sampled Data\n",
        "chi2, p, dof, expected_AR = chi2_contingency(multi_index_crosstab3)\n",
        "\n",
        "# Print the results\n",
        "print(f\"Chi-Square Value: {chi2}\")\n",
        "print(f\"P-value: {p}\")\n",
        "print(f\"Degrees of Freedom: {dof}\")\n",
        "print(\"Expected Frequencies:\")\n",
        "print(expected_AR)"
      ],
      "metadata": {
        "colab": {
          "base_uri": "https://localhost:8080/"
        },
        "outputId": "090f7eab-f98b-4589-c080-0c5362e0da46",
        "id": "xnrEB4t4MV_I"
      },
      "execution_count": null,
      "outputs": [
        {
          "output_type": "stream",
          "name": "stdout",
          "text": [
            "Chi-Square Value: 200.817046207757\n",
            "P-value: 7.755893350473904e-32\n",
            "Degrees of Freedom: 20\n",
            "Expected Frequencies:\n",
            "[[7.48947798e+02 1.30522023e+01]\n",
            " [3.63662316e+01 6.33768352e-01]\n",
            " [2.15248777e+02 3.75122349e+00]\n",
            " [4.91435563e+00 8.56443719e-02]\n",
            " [1.96574225e+00 3.42577488e-02]\n",
            " [9.82871126e-01 1.71288744e-02]\n",
            " [1.67088091e+01 2.91190865e-01]\n",
            " [7.86296900e+00 1.37030995e-01]\n",
            " [3.93148450e+00 6.85154976e-02]\n",
            " [7.86296900e+00 1.37030995e-01]\n",
            " [1.96574225e+00 3.42577488e-02]\n",
            " [9.82871126e-01 1.71288744e-02]\n",
            " [9.82871126e-01 1.71288744e-02]\n",
            " [9.14070147e+01 1.59298532e+00]\n",
            " [8.84584013e+00 1.54159869e-01]\n",
            " [5.11092985e+01 8.90701468e-01]\n",
            " [9.82871126e-01 1.71288744e-02]\n",
            " [9.82871126e-01 1.71288744e-02]\n",
            " [9.82871126e-01 1.71288744e-02]\n",
            " [9.82871126e-01 1.71288744e-02]\n",
            " [9.82871126e-01 1.71288744e-02]]\n"
          ]
        }
      ]
    },
    {
      "cell_type": "markdown",
      "source": [
        "##### 2.3.2 Cramer's V"
      ],
      "metadata": {
        "id": "AwQIkOROeSKQ"
      }
    },
    {
      "cell_type": "code",
      "execution_count": null,
      "metadata": {
        "id": "iCI_LqWd4bm4"
      },
      "outputs": [],
      "source": [
        "# Convert the categorical data to numerical labels (optional if already numeric)\n",
        "for column in sampled_df.columns:\n",
        "    sampled_df[column] = pd.Categorical(sampled_df[column]).codes\n",
        "\n",
        "# Calculate Cramér's V\n",
        "def cramers_v(confusion_matrix):\n",
        "    chi2 = chi2_contingency(confusion_matrix)[0]\n",
        "    n = confusion_matrix.sum().sum()\n",
        "    phi2 = chi2 / n\n",
        "    r, k = confusion_matrix.shape\n",
        "    phi2corr = max(0, phi2 - ((k - 1) * (r - 1)) / (n - 1))\n",
        "    rcorr = r - ((r - 1) ** 2) / (n - 1)\n",
        "    kcorr = k - ((k - 1) ** 2) / (n - 1)\n",
        "    return np.sqrt(phi2corr / min((kcorr - 1), (rcorr - 1)))\n",
        "\n",
        "# Create a contingency table for the two categorical variables\n",
        "confusion_matrix = pd.crosstab(sampled_df['manner_of_death'], sampled_df['detail_age'])\n",
        "\n",
        "# Calculate Cramér's V\n",
        "cramers_v_value = cramers_v(confusion_matrix)\n",
        "print(\"Cramér's V:\", cramers_v_value)"
      ]
    },
    {
      "cell_type": "code",
      "execution_count": null,
      "metadata": {
        "id": "8wRE-VY44tSY"
      },
      "outputs": [],
      "source": [
        "# Calculate Cramér's V\n",
        "def cramers_v(confusion_matrix):\n",
        "    chi2 = chi2_contingency(confusion_matrix)[0]\n",
        "    n = confusion_matrix.sum().sum()\n",
        "    phi2 = chi2 / n\n",
        "    r, k = confusion_matrix.shape\n",
        "    phi2corr = max(0, phi2 - ((k - 1) * (r - 1)) / (n - 1))\n",
        "    rcorr = r - ((r - 1) ** 2) / (n - 1)\n",
        "    kcorr = k - ((k - 1) ** 2) / (n - 1)\n",
        "    return np.sqrt(phi2corr / min((kcorr - 1), (rcorr - 1)))\n",
        "\n",
        "# Create a contingency table for the two categorical variables\n",
        "confusion_matrix = pd.crosstab(sampled_df['manner_of_death'], sampled_df['race'])\n",
        "\n",
        "# Calculate Cramér's V\n",
        "cramers_v_value = cramers_v(confusion_matrix)\n",
        "print(\"Cramér's V:\", cramers_v_value)"
      ]
    },
    {
      "cell_type": "code",
      "execution_count": null,
      "metadata": {
        "id": "SekwW8nk5AR6"
      },
      "outputs": [],
      "source": [
        "# Calculate Cramér's V\n",
        "def cramers_v(confusion_matrix):\n",
        "    chi2 = chi2_contingency(confusion_matrix)[0]\n",
        "    n = confusion_matrix.sum().sum()\n",
        "    phi2 = chi2 / n\n",
        "    r, k = confusion_matrix.shape\n",
        "    phi2corr = max(0, phi2 - ((k - 1) * (r - 1)) / (n - 1))\n",
        "    rcorr = r - ((r - 1) ** 2) / (n - 1)\n",
        "    kcorr = k - ((k - 1) ** 2) / (n - 1)\n",
        "    return np.sqrt(phi2corr / min((kcorr - 1), (rcorr - 1)))\n",
        "\n",
        "# Create a contingency table for the two categorical variables\n",
        "confusion_matrix = pd.crosstab(sampled_df['manner_of_death'], sampled_df['sex'])\n",
        "\n",
        "# Calculate Cramér's V\n",
        "cramers_v_value = cramers_v(confusion_matrix)\n",
        "print(\"Cramér's V:\", cramers_v_value)"
      ]
    },
    {
      "cell_type": "code",
      "execution_count": null,
      "metadata": {
        "id": "ZZKa7wg85tZw"
      },
      "outputs": [],
      "source": [
        "# Calculate Cramér's V\n",
        "def cramers_v(confusion_matrix):\n",
        "    chi2 = chi2_contingency(confusion_matrix)[0]\n",
        "    n = confusion_matrix.sum().sum()\n",
        "    phi2 = chi2 / n\n",
        "    r, k = confusion_matrix.shape\n",
        "    phi2corr = max(0, phi2 - ((k - 1) * (r - 1)) / (n - 1))\n",
        "    rcorr = r - ((r - 1) ** 2) / (n - 1)\n",
        "    kcorr = k - ((k - 1) ** 2) / (n - 1)\n",
        "    return np.sqrt(phi2corr / min((kcorr - 1), (rcorr - 1)))\n",
        "\n",
        "# Create a contingency table for the two categorical variables\n",
        "confusion_matrix = pd.crosstab(sampled_df['manner_of_death'], sampled_df['autopsy'])\n",
        "\n",
        "# Calculate Cramér's V\n",
        "cramers_v_value = cramers_v(confusion_matrix)\n",
        "print(\"Cramér's V:\", cramers_v_value)"
      ]
    },
    {
      "cell_type": "code",
      "execution_count": null,
      "metadata": {
        "id": "HtlUdWV85wpD"
      },
      "outputs": [],
      "source": [
        "# Calculate Cramér's V\n",
        "def cramers_v(confusion_matrix):\n",
        "    chi2 = chi2_contingency(confusion_matrix)[0]\n",
        "    n = confusion_matrix.sum().sum()\n",
        "    phi2 = chi2 / n\n",
        "    r, k = confusion_matrix.shape\n",
        "    phi2corr = max(0, phi2 - ((k - 1) * (r - 1)) / (n - 1))\n",
        "    rcorr = r - ((r - 1) ** 2) / (n - 1)\n",
        "    kcorr = k - ((k - 1) ** 2) / (n - 1)\n",
        "    return np.sqrt(phi2corr / min((kcorr - 1), (rcorr - 1)))\n",
        "\n",
        "# Create a contingency table for the two categorical variables\n",
        "confusion_matrix = pd.crosstab(sampled_df['manner_of_death'], sampled_df['marital_status'])\n",
        "\n",
        "# Calculate Cramér's V\n",
        "cramers_v_value = cramers_v(confusion_matrix)\n",
        "print(\"Cramér's V:\", cramers_v_value)"
      ]
    },
    {
      "cell_type": "code",
      "execution_count": null,
      "metadata": {
        "id": "GF1vjuSZ52ht"
      },
      "outputs": [],
      "source": [
        "# Calculate Cramér's V\n",
        "def cramers_v(confusion_matrix):\n",
        "    chi2 = chi2_contingency(confusion_matrix)[0]\n",
        "    n = confusion_matrix.sum().sum()\n",
        "    phi2 = chi2 / n\n",
        "    r, k = confusion_matrix.shape\n",
        "    phi2corr = max(0, phi2 - ((k - 1) * (r - 1)) / (n - 1))\n",
        "    rcorr = r - ((r - 1) ** 2) / (n - 1)\n",
        "    kcorr = k - ((k - 1) ** 2) / (n - 1)\n",
        "    return np.sqrt(phi2corr / min((kcorr - 1), (rcorr - 1)))\n",
        "\n",
        "# Create a contingency table for the two categorical variables\n",
        "confusion_matrix = pd.crosstab(sampled_df['manner_of_death'], sampled_df['month_of_death'])\n",
        "\n",
        "# Calculate Cramér's V\n",
        "cramers_v_value = cramers_v(confusion_matrix)\n",
        "print(\"Cramér's V:\", cramers_v_value)"
      ]
    },
    {
      "cell_type": "code",
      "execution_count": null,
      "metadata": {
        "id": "MvyfD5m859NX"
      },
      "outputs": [],
      "source": [
        "# Calculate Cramér's V\n",
        "def cramers_v(confusion_matrix):\n",
        "    chi2 = chi2_contingency(confusion_matrix)[0]\n",
        "    n = confusion_matrix.sum().sum()\n",
        "    phi2 = chi2 / n\n",
        "    r, k = confusion_matrix.shape\n",
        "    phi2corr = max(0, phi2 - ((k - 1) * (r - 1)) / (n - 1))\n",
        "    rcorr = r - ((r - 1) ** 2) / (n - 1)\n",
        "    kcorr = k - ((k - 1) ** 2) / (n - 1)\n",
        "    return np.sqrt(phi2corr / min((kcorr - 1), (rcorr - 1)))\n",
        "\n",
        "# Create a contingency table for the two categorical variables\n",
        "confusion_matrix = pd.crosstab(sampled_df['manner_of_death'], sampled_df['education_2003_revision'])\n",
        "\n",
        "# Calculate Cramér's V\n",
        "cramers_v_value = cramers_v(confusion_matrix)\n",
        "print(\"Cramér's V:\", cramers_v_value)"
      ]
    },
    {
      "cell_type": "code",
      "execution_count": null,
      "metadata": {
        "id": "tcte8g3y6GNZ"
      },
      "outputs": [],
      "source": [
        "# Calculate Cramér's V\n",
        "def cramers_v(confusion_matrix):\n",
        "    chi2 = chi2_contingency(confusion_matrix)[0]\n",
        "    n = confusion_matrix.sum().sum()\n",
        "    phi2 = chi2 / n\n",
        "    r, k = confusion_matrix.shape\n",
        "    phi2corr = max(0, phi2 - ((k - 1) * (r - 1)) / (n - 1))\n",
        "    rcorr = r - ((r - 1) ** 2) / (n - 1)\n",
        "    kcorr = k - ((k - 1) ** 2) / (n - 1)\n",
        "    return np.sqrt(phi2corr / min((kcorr - 1), (rcorr - 1)))\n",
        "\n",
        "# Create a contingency table for the two categorical variables\n",
        "confusion_matrix = pd.crosstab(sampled_df['manner_of_death'], sampled_df['day_of_week_of_death'])\n",
        "\n",
        "# Calculate Cramér's V\n",
        "cramers_v_value = cramers_v(confusion_matrix)\n",
        "print(\"Cramér's V:\", cramers_v_value)"
      ]
    },
    {
      "cell_type": "code",
      "execution_count": null,
      "metadata": {
        "id": "xf9dScGh6QeV"
      },
      "outputs": [],
      "source": [
        "# Calculate Cramér's V\n",
        "def cramers_v(confusion_matrix):\n",
        "    chi2 = chi2_contingency(confusion_matrix)[0]\n",
        "    n = confusion_matrix.sum().sum()\n",
        "    phi2 = chi2 / n\n",
        "    r, k = confusion_matrix.shape\n",
        "    phi2corr = max(0, phi2 - ((k - 1) * (r - 1)) / (n - 1))\n",
        "    rcorr = r - ((r - 1) ** 2) / (n - 1)\n",
        "    kcorr = k - ((k - 1) ** 2) / (n - 1)\n",
        "    return np.sqrt(phi2corr / min((kcorr - 1), (rcorr - 1)))\n",
        "\n",
        "# Create a contingency table for the two categorical variables\n",
        "confusion_matrix = pd.crosstab(sampled_df['manner_of_death'], sampled_df['injury_at_work'])\n",
        "\n",
        "# Calculate Cramér's V\n",
        "cramers_v_value = cramers_v(confusion_matrix)\n",
        "print(\"Cramér's V:\", cramers_v_value)"
      ]
    },
    {
      "cell_type": "code",
      "execution_count": null,
      "metadata": {
        "id": "ihelzDJK6WjF"
      },
      "outputs": [],
      "source": [
        "# Calculate Cramér's V\n",
        "def cramers_v(confusion_matrix):\n",
        "    chi2 = chi2_contingency(confusion_matrix)[0]\n",
        "    n = confusion_matrix.sum().sum()\n",
        "    phi2 = chi2 / n\n",
        "    r, k = confusion_matrix.shape\n",
        "    phi2corr = max(0, phi2 - ((k - 1) * (r - 1)) / (n - 1))\n",
        "    rcorr = r - ((r - 1) ** 2) / (n - 1)\n",
        "    kcorr = k - ((k - 1) ** 2) / (n - 1)\n",
        "    return np.sqrt(phi2corr / min((kcorr - 1), (rcorr - 1)))\n",
        "\n",
        "# Create a contingency table for the two categorical variables\n",
        "confusion_matrix = pd.crosstab(sampled_df['manner_of_death'], sampled_df['method_of_disposition'])\n",
        "\n",
        "# Calculate Cramér's V\n",
        "cramers_v_value = cramers_v(confusion_matrix)\n",
        "print(\"Cramér's V:\", cramers_v_value)"
      ]
    },
    {
      "cell_type": "code",
      "execution_count": null,
      "metadata": {
        "id": "0y9ingtw6Wch"
      },
      "outputs": [],
      "source": [
        "# Calculate Cramér's V\n",
        "def cramers_v(confusion_matrix):\n",
        "    chi2 = chi2_contingency(confusion_matrix)[0]\n",
        "    n = confusion_matrix.sum().sum()\n",
        "    phi2 = chi2 / n\n",
        "    r, k = confusion_matrix.shape\n",
        "    phi2corr = max(0, phi2 - ((k - 1) * (r - 1)) / (n - 1))\n",
        "    rcorr = r - ((r - 1) ** 2) / (n - 1)\n",
        "    kcorr = k - ((k - 1) ** 2) / (n - 1)\n",
        "    return np.sqrt(phi2corr / min((kcorr - 1), (rcorr - 1)))\n",
        "\n",
        "# Create a contingency table for the two categorical variables\n",
        "confusion_matrix = pd.crosstab(sampled_df['manner_of_death'], sampled_df['injury_at_work'])\n",
        "\n",
        "# Calculate Cramér's V\n",
        "cramers_v_value = cramers_v(confusion_matrix)\n",
        "print(\"Cramér's V:\", cramers_v_value)"
      ]
    },
    {
      "cell_type": "markdown",
      "metadata": {
        "id": "RgYd-UXNv37l"
      },
      "source": [
        "#### 3.3 Normalize Data and Encode Categorical Variables"
      ]
    },
    {
      "cell_type": "code",
      "execution_count": null,
      "metadata": {
        "id": "BMVTSypcBuAz"
      },
      "outputs": [],
      "source": [
        "# Normalize detail_age using Min-Max scaler\n",
        "mms = MinMaxScaler()\n",
        "sampled_df[['detail_age']] = mms.fit_transform(sampled_df[['detail_age']])"
      ]
    },
    {
      "cell_type": "code",
      "execution_count": null,
      "metadata": {
        "id": "aIiWRDMhv37m"
      },
      "outputs": [],
      "source": [
        "# Perform one-hot encoding on categorical columns\n",
        "encoded_df = pd.get_dummies(sampled_df, columns=['education_2003_revision', 'month_of_death', 'sex', 'place_of_death_and_decedents_status', 'marital_status', 'day_of_week_of_death', 'injury_at_work','method_of_disposition', 'autopsy', 'race'],\n",
        "                            prefix=['education_2003_revision', 'month_of_death', 'sex', 'place_of_death_and_decedents_status', 'marital_status', 'day_of_week_of_death', 'injury_at_work','method_of_disposition', 'autopsy', 'race'])"
      ]
    },
    {
      "cell_type": "markdown",
      "metadata": {
        "id": "0bqqy_OwqZP6"
      },
      "source": [
        "#### 3.4 Class Imbalances"
      ]
    },
    {
      "cell_type": "code",
      "execution_count": null,
      "metadata": {
        "id": "bY4dPMPGqY0D"
      },
      "outputs": [],
      "source": [
        "# Calculate class proportions\n",
        "class_proportions = encoded_df['manner_of_death'].value_counts(normalize=True)\n",
        "\n",
        "print(class_proportions)"
      ]
    },
    {
      "cell_type": "code",
      "execution_count": null,
      "metadata": {
        "id": "UfiD4ZqiQ_nX"
      },
      "outputs": [],
      "source": [
        "# Split data for rebalancing\n",
        "train, test = train_test_split(encoded_df, test_size=0.3, random_state=42)"
      ]
    },
    {
      "cell_type": "code",
      "execution_count": null,
      "metadata": {
        "id": "712WTPt0Q_nX"
      },
      "outputs": [],
      "source": [
        "# Identify current proportion of homicide records\n",
        "total = train.shape[0]\n",
        "print('\\nTotal number of instances in train sample: ', total)\n",
        "\n",
        "homicide = train['manner_of_death'].value_counts()[1]\n",
        "print('\\nTotal number of homicide instances in train sample: ', homicide)\n",
        "\n",
        "# Calculate number to resample\n",
        "x = ((0.2 * total) - homicide) / 0.8\n",
        "print('\\nNumber of homicide records to resample: ', int(x))\n",
        "\n",
        "# Resample data to increase number of homicide records\n",
        "to_resample = train.loc[train['manner_of_death'] == 1]\n",
        "our_resample = to_resample.sample(n = int(x), replace = True)\n",
        "encoded_df_rebal = pd.concat([train, our_resample])\n",
        "encoded_df_rebal['manner_of_death'].value_counts()\n",
        "\n",
        "# Check percentage is met\n",
        "ratio = encoded_df_rebal['manner_of_death'].value_counts()[1] / encoded_df_rebal.shape[0] * 100\n",
        "print('\\nNew percent of homicide records: ', round(ratio, 0))"
      ]
    },
    {
      "cell_type": "markdown",
      "metadata": {
        "id": "UIUrmXSV9yos"
      },
      "source": [
        "## 4. Modeling - Artifical Neural Networks"
      ]
    },
    {
      "cell_type": "markdown",
      "source": [
        "#### 4.1 ANN Models WITHOUT Data Rebalance"
      ],
      "metadata": {
        "id": "C1n3snrZSB_6"
      }
    },
    {
      "cell_type": "code",
      "execution_count": null,
      "metadata": {
        "id": "bUdTnt4mAQ6-"
      },
      "outputs": [],
      "source": [
        "# select features for model\n",
        "selected_features = [col for col in encoded_df.columns if col != 'manner_of_death']\n",
        "\n",
        "target_variable = 'manner_of_death'"
      ]
    },
    {
      "cell_type": "code",
      "execution_count": null,
      "metadata": {
        "id": "HYZ35zsQBdKo"
      },
      "outputs": [],
      "source": [
        "# select X and y variables\n",
        "X = encoded_df[selected_features]\n",
        "y = encoded_df[target_variable]"
      ]
    },
    {
      "cell_type": "code",
      "execution_count": null,
      "metadata": {
        "id": "lXWxZqYtBp7M"
      },
      "outputs": [],
      "source": [
        "# split data\n",
        "X_train, X_test, y_train, y_test = train_test_split(X, y, test_size=0.3, random_state=42)"
      ]
    },
    {
      "cell_type": "markdown",
      "metadata": {
        "id": "2OGxXSt0JIKo"
      },
      "source": [
        "##### 4.1.1 Basic ANN Model withOUT Hidden Layers"
      ]
    },
    {
      "cell_type": "code",
      "execution_count": null,
      "metadata": {
        "id": "9RR2UuS3JN5o"
      },
      "outputs": [],
      "source": [
        "# build the ANN model\n",
        "model_nolay = keras.Sequential([\n",
        "    layers.Dense(1, activation='sigmoid', input_shape=(X_train.shape[1],))\n",
        "])\n",
        "\n",
        "# compile the model\n",
        "model_nolay.compile(optimizer='adam', loss='binary_crossentropy', metrics=['accuracy'])"
      ]
    },
    {
      "cell_type": "code",
      "execution_count": null,
      "metadata": {
        "id": "yKehTStCJOHJ"
      },
      "outputs": [],
      "source": [
        "# train the model\n",
        "model_nolay.fit(X_train, y_train, epochs=10, batch_size=32)"
      ]
    },
    {
      "cell_type": "code",
      "execution_count": null,
      "metadata": {
        "id": "SfbNmDlhJOQy"
      },
      "outputs": [],
      "source": [
        "# evaluate the model\n",
        "loss_nolay, accuracy_nolay = model_nolay.evaluate(X_test, y_test)\n",
        "print(f\"Test accuracy (Model_nolay): {accuracy_nolay}\")"
      ]
    },
    {
      "cell_type": "markdown",
      "metadata": {
        "id": "ho6Qe7UwE2rD"
      },
      "source": [
        "##### 4.1.2 Basic ANN Model with Hidden Layers"
      ]
    },
    {
      "cell_type": "code",
      "execution_count": null,
      "metadata": {
        "id": "PCO1rqBqBzl7"
      },
      "outputs": [],
      "source": [
        "# build the ANN model --> 3 hidden layers, 64 neurons on 1st, 32 neurons on 2nd, and 1 output neuron on last\n",
        "model_lay = keras.Sequential([\n",
        "    layers.Dense(64, activation='relu', input_shape=(X_train.shape[1],)),\n",
        "    layers.Dense(32, activation='relu'),\n",
        "    layers.Dense(1, activation='sigmoid')\n",
        "])\n",
        "\n",
        "# Compile the model\n",
        "model_lay.compile(optimizer='adam', loss='binary_crossentropy', metrics=['accuracy'])"
      ]
    },
    {
      "cell_type": "code",
      "execution_count": null,
      "metadata": {
        "id": "6LunPpyYCKmN"
      },
      "outputs": [],
      "source": [
        "# train the ANN model\n",
        "model_lay.fit(X_train, y_train, epochs=10, batch_size=32)"
      ]
    },
    {
      "cell_type": "code",
      "execution_count": null,
      "metadata": {
        "id": "v4-31W27CUrc"
      },
      "outputs": [],
      "source": [
        "# evaluate the model\n",
        "loss_lay, accuracy_lay = model_lay.evaluate(X_test, y_test)\n",
        "print(f\"Test accuracy: {accuracy_lay}\")"
      ]
    },
    {
      "cell_type": "code",
      "execution_count": null,
      "metadata": {
        "id": "R2ejUBQCDFMq"
      },
      "outputs": [],
      "source": [
        "# visualize the ANN model\n",
        "def visualize_model(model_lay):\n",
        "    G = nx.DiGraph()\n",
        "    node_labels = {}\n",
        "    for i, layer in enumerate(model_lay.layers):\n",
        "        layer_name = f'{layer.name}\\n{layer.output_shape}'\n",
        "        node_labels[i] = layer_name\n",
        "        G.add_node(layer_name)\n",
        "        if i > 0:\n",
        "            G.add_edge(node_labels[i - 1], layer_name)\n",
        "\n",
        "    pos = nx.spring_layout(G, seed=42)\n",
        "    plt.figure(figsize=(10, 6))\n",
        "    nx.draw(G, pos, with_labels=True, node_size=2000, node_color='skyblue', font_size=10, font_weight='bold')\n",
        "    plt.title(\"Neural Network Model Architecture\")\n",
        "    plt.savefig('model_visualization.png', format='png', dpi=300, bbox_inches='tight')\n",
        "    plt.show()\n",
        "\n",
        "# Call the function to visualize the model\n",
        "visualize_model(model_lay)"
      ]
    },
    {
      "cell_type": "markdown",
      "metadata": {
        "id": "QMmDdSZoE8KU"
      },
      "source": [
        "##### 4.1.3 ANN Model w/ Reduced Complexity (Reduced amount of hidden layers)"
      ]
    },
    {
      "cell_type": "code",
      "execution_count": null,
      "metadata": {
        "id": "V0cp80-sFBZg"
      },
      "outputs": [],
      "source": [
        "# build model with reduced complexity --> 3 hidden layers, 32 neurons on 1st, 16 neurons on 2nd, and 1 output neuron on last\n",
        "model_red = keras.Sequential([\n",
        "    layers.Dense(32, activation='relu', input_shape=(X_train.shape[1],)),\n",
        "    layers.Dense(16, activation='relu'),\n",
        "    layers.Dense(1, activation='sigmoid')\n",
        "])\n",
        "\n",
        "# compile the model\n",
        "model_red.compile(optimizer='adam', loss='binary_crossentropy', metrics=['accuracy'])"
      ]
    },
    {
      "cell_type": "code",
      "execution_count": null,
      "metadata": {
        "id": "NdvEVypTFdGi"
      },
      "outputs": [],
      "source": [
        "# train the model with reduced complexity\n",
        "model_red.fit(X_train, y_train, epochs=10, batch_size=32)"
      ]
    },
    {
      "cell_type": "code",
      "execution_count": null,
      "metadata": {
        "id": "P81ir8MSFdJS"
      },
      "outputs": [],
      "source": [
        "# evaluate the model with reduced complexity\n",
        "loss_red, accuracy_red = model_red.evaluate(X_test, y_test)\n",
        "print(f\"Test accuracy: {accuracy_red}\")"
      ]
    },
    {
      "cell_type": "code",
      "execution_count": null,
      "metadata": {
        "id": "7YTxkYomFdMk"
      },
      "outputs": [],
      "source": [
        "# visualize model with reduced complexity\n",
        "def visualize_model(model_red):\n",
        "    G = nx.DiGraph()\n",
        "    node_labels = {}\n",
        "    for i, layer in enumerate(model_red.layers):\n",
        "        layer_name = f'{layer.name}\\n{layer.output_shape}'\n",
        "        node_labels[i] = layer_name\n",
        "        G.add_node(layer_name)\n",
        "        if i > 0:\n",
        "            G.add_edge(node_labels[i - 1], layer_name)\n",
        "\n",
        "    pos = nx.spring_layout(G, seed=42)\n",
        "    plt.figure(figsize=(10, 6))\n",
        "    nx.draw(G, pos, with_labels=True, node_size=2000, node_color='skyblue', font_size=10, font_weight='bold')\n",
        "    plt.title(\"Neural Network Model Architecture (Reduced Complexity)\")\n",
        "    plt.savefig('model_red_visualization.png', format='png', dpi=300, bbox_inches='tight')\n",
        "    plt.show()\n",
        "\n",
        "# call function to visualize\n",
        "visualize_model(model_red)"
      ]
    },
    {
      "cell_type": "markdown",
      "metadata": {
        "id": "CTL5LSv9KYFv"
      },
      "source": [
        "##### 4.1.4 ANN Model with Regularization"
      ]
    },
    {
      "cell_type": "code",
      "execution_count": null,
      "metadata": {
        "id": "aULJQ06_FdRQ"
      },
      "outputs": [],
      "source": [
        "# build ANN the model with minimal hidden layers and dropout regularization (discussed in textbook)\n",
        "model_reg = keras.Sequential([\n",
        "    layers.Dense(16, activation='relu', input_shape=(X_train.shape[1],)),\n",
        "    Dropout(0.2),  # Dropout layer with 20% dropout rate\n",
        "    layers.Dense(1, activation='sigmoid')  # Binary classification, hence using 'sigmoid'\n",
        "])\n",
        "\n",
        "# Compile the model\n",
        "model_reg.compile(optimizer='adam', loss='binary_crossentropy', metrics=['accuracy'])"
      ]
    },
    {
      "cell_type": "code",
      "execution_count": null,
      "metadata": {
        "id": "jG9yztQkMDwu"
      },
      "outputs": [],
      "source": [
        "# train model\n",
        "model_reg.fit(X_train, y_train, epochs=10, batch_size=32)"
      ]
    },
    {
      "cell_type": "code",
      "execution_count": null,
      "metadata": {
        "id": "fw0hovCuMI54"
      },
      "outputs": [],
      "source": [
        "# evaluate model\n",
        "loss_reg, accuracy_reg = model_reg.evaluate(X_test, y_test)\n",
        "print(f\"Test accuracy (Model_reg): {accuracy_reg}\")"
      ]
    },
    {
      "cell_type": "code",
      "execution_count": null,
      "metadata": {
        "id": "zsKG4E5XMPZm"
      },
      "outputs": [],
      "source": [
        "# visualize model with dropout reg\n",
        "def visualize_model(model):\n",
        "    G = nx.DiGraph()\n",
        "    node_labels = {}\n",
        "    for i, layer in enumerate(model.layers):\n",
        "        layer_name = f'{layer.name}\\n{layer.output_shape}'\n",
        "        node_labels[i] = layer_name\n",
        "        G.add_node(layer_name)\n",
        "        if i > 0:\n",
        "            G.add_edge(node_labels[i - 1], layer_name)\n",
        "\n",
        "    pos = nx.spring_layout(G, seed=42)\n",
        "    plt.figure(figsize=(10, 6))\n",
        "    nx.draw(G, pos, with_labels=True, node_size=2000, node_color='skyblue', font_size=10, font_weight='bold')\n",
        "    plt.title(\"Neural Network Model Architecture (Model_reg)\")\n",
        "    plt.savefig('model_reg_visualization.png', format='png', dpi=300, bbox_inches='tight')\n",
        "    plt.show()\n",
        "\n",
        "# call function to visualize\n",
        "visualize_model(model_reg)"
      ]
    },
    {
      "cell_type": "markdown",
      "source": [
        "#### 4.2 ANN Models WITH Data Rebalance"
      ],
      "metadata": {
        "id": "XHuW4oapV5Or"
      }
    },
    {
      "cell_type": "code",
      "source": [
        "# select features for model\n",
        "selected_features = [col for col in encoded_df_rebal.columns if col != 'manner_of_death']\n",
        "\n",
        "target_variable = 'manner_of_death'"
      ],
      "metadata": {
        "id": "mCmQ_qz1V7tN"
      },
      "execution_count": null,
      "outputs": []
    },
    {
      "cell_type": "code",
      "source": [
        "# select X and y variables\n",
        "X_rebal = encoded_df_rebal[selected_features]\n",
        "y_rebal = encoded_df_rebal[target_variable]"
      ],
      "metadata": {
        "id": "OWqtdLOWWEXR"
      },
      "execution_count": null,
      "outputs": []
    },
    {
      "cell_type": "code",
      "source": [
        "# split data\n",
        "X_train_rebal, X_test_rebal, y_train_rebal, y_test_rebal = train_test_split(X_rebal, y_rebal, test_size=0.3, random_state=42)"
      ],
      "metadata": {
        "id": "zs63edluWEcG"
      },
      "execution_count": null,
      "outputs": []
    },
    {
      "cell_type": "markdown",
      "source": [
        "##### 4.2.1 Basic ANN Model withOUT Hidden Layers"
      ],
      "metadata": {
        "id": "XNGHoOTCWgrJ"
      }
    },
    {
      "cell_type": "code",
      "source": [
        "# build the ANN model\n",
        "model_nolay_rebal = keras.Sequential([\n",
        "    layers.Dense(1, activation='sigmoid', input_shape=(X_train_rebal.shape[1],))\n",
        "])\n",
        "\n",
        "# compile the model\n",
        "model_nolay_rebal.compile(optimizer='adam', loss='binary_crossentropy', metrics=['accuracy'])"
      ],
      "metadata": {
        "id": "mI6Q6k2DWhbd"
      },
      "execution_count": null,
      "outputs": []
    },
    {
      "cell_type": "code",
      "source": [
        "# train the model\n",
        "model_nolay_rebal.fit(X_train_rebal, y_train_rebal, epochs=10, batch_size=32)"
      ],
      "metadata": {
        "id": "Y6MlxDPoWtwK"
      },
      "execution_count": null,
      "outputs": []
    },
    {
      "cell_type": "code",
      "source": [
        "# evaluate the model\n",
        "loss_nolay_rebal, accuracy_nolay_rebal = model_nolay_rebal.evaluate(X_test_rebal, y_test_rebal)\n",
        "print(f\"Test accuracy (Model_nolay): {accuracy_nolay_rebal}\")"
      ],
      "metadata": {
        "id": "yptKe7vuWt0n"
      },
      "execution_count": null,
      "outputs": []
    },
    {
      "cell_type": "markdown",
      "source": [
        "##### 4.2.2 Basic ANN Model with Hidden Layers"
      ],
      "metadata": {
        "id": "SS2lv7UMYA03"
      }
    },
    {
      "cell_type": "code",
      "source": [
        "# build the ANN model --> 3 hidden layers, 64 neurons on 1st, 32 neurons on 2nd, and 1 output neuron on last\n",
        "model_lay_rebal = keras.Sequential([\n",
        "    layers.Dense(64, activation='relu', input_shape=(X_train_rebal.shape[1],)),\n",
        "    layers.Dense(32, activation='relu'),\n",
        "    layers.Dense(1, activation='sigmoid')\n",
        "])\n",
        "\n",
        "# Compile the model\n",
        "model_lay_rebal.compile(optimizer='adam', loss='binary_crossentropy', metrics=['accuracy'])"
      ],
      "metadata": {
        "id": "mqrWGxSjYJ1X"
      },
      "execution_count": null,
      "outputs": []
    },
    {
      "cell_type": "code",
      "source": [
        "# train the ANN model\n",
        "model_lay_rebal.fit(X_train_rebal, y_train_rebal, epochs=10, batch_size=32)"
      ],
      "metadata": {
        "id": "CiUfcf3tYQ1H"
      },
      "execution_count": null,
      "outputs": []
    },
    {
      "cell_type": "code",
      "source": [
        "# evaluate the model\n",
        "loss_lay_rebal, accuracy_lay_rebal = model_lay_rebal.evaluate(X_test_rebal, y_test_rebal)\n",
        "print(f\"Test accuracy: {accuracy_lay_rebal}\")"
      ],
      "metadata": {
        "id": "UOx6mY-BYQ6a"
      },
      "execution_count": null,
      "outputs": []
    },
    {
      "cell_type": "code",
      "source": [
        "# visualize the ANN model\n",
        "def visualize_model(model_lay_rebal):\n",
        "    G = nx.DiGraph()\n",
        "    node_labels = {}\n",
        "    for i, layer in enumerate(model_lay_rebal.layers):\n",
        "        layer_name = f'{layer.name}\\n{layer.output_shape}'\n",
        "        node_labels[i] = layer_name\n",
        "        G.add_node(layer_name)\n",
        "        if i > 0:\n",
        "            G.add_edge(node_labels[i - 1], layer_name)\n",
        "\n",
        "    pos = nx.spring_layout(G, seed=42)\n",
        "    plt.figure(figsize=(10, 6))\n",
        "    nx.draw(G, pos, with_labels=True, node_size=2000, node_color='skyblue', font_size=10, font_weight='bold')\n",
        "    plt.title(\"Neural Network Model Architecture\")\n",
        "    plt.savefig('model_visualization.png', format='png', dpi=300, bbox_inches='tight')\n",
        "    plt.show()\n",
        "\n",
        "# Call the function to visualize the model\n",
        "visualize_model(model_lay_rebal)"
      ],
      "metadata": {
        "id": "onI1RCT9YREz"
      },
      "execution_count": null,
      "outputs": []
    },
    {
      "cell_type": "markdown",
      "source": [
        "##### 4.2.3 ANN Model w/ Reduced Complexity (Reduced amount of hidden layers)"
      ],
      "metadata": {
        "id": "f7bf3JFoY97f"
      }
    },
    {
      "cell_type": "code",
      "source": [
        "# build model with reduced complexity --> 3 hidden layers, 32 neurons on 1st, 16 neurons on 2nd, and 1 output neuron on last\n",
        "model_red_rebal = keras.Sequential([\n",
        "    layers.Dense(32, activation='relu', input_shape=(X_train_rebal.shape[1],)),\n",
        "    layers.Dense(16, activation='relu'),\n",
        "    layers.Dense(1, activation='sigmoid')\n",
        "])\n",
        "\n",
        "# compile the model\n",
        "model_red_rebal.compile(optimizer='adam', loss='binary_crossentropy', metrics=['accuracy'])"
      ],
      "metadata": {
        "id": "GEf09ll6ZJuI"
      },
      "execution_count": null,
      "outputs": []
    },
    {
      "cell_type": "code",
      "source": [
        "# train the model with reduced complexity\n",
        "model_red_rebal.fit(X_train_rebal, y_train_rebal, epochs=10, batch_size=32)"
      ],
      "metadata": {
        "id": "O-zVFGZSZKN2"
      },
      "execution_count": null,
      "outputs": []
    },
    {
      "cell_type": "code",
      "source": [
        "# evaluate the model with reduced complexity\n",
        "loss_red_rebal, accuracy_red_rebal = model_red_rebal.evaluate(X_test_rebal, y_test_rebal)\n",
        "print(f\"Test accuracy: {accuracy_red_rebal}\")"
      ],
      "metadata": {
        "id": "V0GnYyEyZKS9"
      },
      "execution_count": null,
      "outputs": []
    },
    {
      "cell_type": "code",
      "source": [
        "# visualize model with reduced complexity\n",
        "def visualize_model(model_red_rebal):\n",
        "    G = nx.DiGraph()\n",
        "    node_labels = {}\n",
        "    for i, layer in enumerate(model_red_rebal.layers):\n",
        "        layer_name = f'{layer.name}\\n{layer.output_shape}'\n",
        "        node_labels[i] = layer_name\n",
        "        G.add_node(layer_name)\n",
        "        if i > 0:\n",
        "            G.add_edge(node_labels[i - 1], layer_name)\n",
        "\n",
        "    pos = nx.spring_layout(G, seed=42)\n",
        "    plt.figure(figsize=(10, 6))\n",
        "    nx.draw(G, pos, with_labels=True, node_size=2000, node_color='skyblue', font_size=10, font_weight='bold')\n",
        "    plt.title(\"Neural Network Model Architecture (Reduced Complexity)\")\n",
        "    plt.savefig('model_red_visualization.png', format='png', dpi=300, bbox_inches='tight')\n",
        "    plt.show()\n",
        "\n",
        "# call function to visualize\n",
        "visualize_model(model_red_rebal)"
      ],
      "metadata": {
        "id": "mhJrWG26ZKXW"
      },
      "execution_count": null,
      "outputs": []
    },
    {
      "cell_type": "markdown",
      "source": [
        "##### 4.2.4 ANN Model with Regularization"
      ],
      "metadata": {
        "id": "NW2ws0e3ZwOR"
      }
    },
    {
      "cell_type": "code",
      "source": [
        "# build ANN the model with minimal hidden layers and dropout regularization (discussed in textbook)\n",
        "model_reg_rebal = keras.Sequential([\n",
        "    layers.Dense(16, activation='relu', input_shape=(X_train_rebal.shape[1],)),\n",
        "    Dropout(0.2),  # Dropout layer with 20% dropout rate\n",
        "    layers.Dense(1, activation='sigmoid')  # Binary classification, hence using 'sigmoid'\n",
        "])\n",
        "\n",
        "# Compile the model\n",
        "model_reg_rebal.compile(optimizer='adam', loss='binary_crossentropy', metrics=['accuracy'])"
      ],
      "metadata": {
        "id": "1p3ChPJwZ1Pn"
      },
      "execution_count": null,
      "outputs": []
    },
    {
      "cell_type": "code",
      "source": [
        "# train model\n",
        "model_reg_rebal.fit(X_train_rebal, y_train_rebal, epochs=10, batch_size=32)"
      ],
      "metadata": {
        "id": "LLfz0XYzZ1Wa"
      },
      "execution_count": null,
      "outputs": []
    },
    {
      "cell_type": "code",
      "source": [
        "# evaluate model\n",
        "loss_reg_rebal, accuracy_reg_rebal = model_reg_rebal.evaluate(X_test_rebal, y_test_rebal)\n",
        "print(f\"Test accuracy (Model_reg): {accuracy_reg_rebal}\")"
      ],
      "metadata": {
        "id": "52HZLqb2Z1cY"
      },
      "execution_count": null,
      "outputs": []
    },
    {
      "cell_type": "code",
      "source": [
        "# visualize model with dropout reg\n",
        "def visualize_model(model_reg_rebal):\n",
        "    G = nx.DiGraph()\n",
        "    node_labels = {}\n",
        "    for i, layer in enumerate(model_reg_rebal.layers):\n",
        "        layer_name = f'{layer.name}\\n{layer.output_shape}'\n",
        "        node_labels[i] = layer_name\n",
        "        G.add_node(layer_name)\n",
        "        if i > 0:\n",
        "            G.add_edge(node_labels[i - 1], layer_name)\n",
        "\n",
        "    pos = nx.spring_layout(G, seed=42)\n",
        "    plt.figure(figsize=(10, 6))\n",
        "    nx.draw(G, pos, with_labels=True, node_size=2000, node_color='skyblue', font_size=10, font_weight='bold')\n",
        "    plt.title(\"Neural Network Model Architecture (Model_reg)\")\n",
        "    plt.savefig('model_reg_visualization.png', format='png', dpi=300, bbox_inches='tight')\n",
        "    plt.show()\n",
        "\n",
        "# call function to visualize\n",
        "visualize_model(model_reg_rebal)"
      ],
      "metadata": {
        "id": "994F8YgZZ1iH"
      },
      "execution_count": null,
      "outputs": []
    },
    {
      "cell_type": "code",
      "source": [
        "# Predict probabilities for test set\n",
        "y_probs_reg_rebal = model_reg_rebal.predict(X_test_rebal)\n",
        "\n",
        "# Convert probabilities to binary predictions (0 or 1) using a threshold (e.g., 0.5)\n",
        "y_pred_reg_rebal = np.round(y_probs_reg_rebal)\n",
        "\n",
        "# Calculate precision score\n",
        "precision_reg_rebal = precision_score(y_test_rebal, y_pred_reg_rebal, average=None)\n",
        "\n",
        "# Print precision score for positive class (class 1)\n",
        "print(f\"Precision for positive class (Model_reg): {precision_reg_rebal[1]}\")"
      ],
      "metadata": {
        "id": "NKJmAXr2fUxQ"
      },
      "execution_count": null,
      "outputs": []
    },
    {
      "cell_type": "markdown",
      "metadata": {
        "id": "HaPH1ZdoNhMK"
      },
      "source": [
        "#### 4.3 Model Performance Evaluation Summaries"
      ]
    },
    {
      "cell_type": "markdown",
      "source": [
        "##### 4.3.1 Loss & Accuracy Scores"
      ],
      "metadata": {
        "id": "O27MCac8dOF6"
      }
    },
    {
      "cell_type": "code",
      "execution_count": null,
      "metadata": {
        "id": "r8J0R2Z2Nj_Z"
      },
      "outputs": [],
      "source": [
        "# model eval values for NON-REBALANCED models\n",
        "eval_results = {\n",
        "    'Model': ['Model_nolay', 'Model_lay', 'Model_red', 'Model_reg'],\n",
        "    'Test Loss': [loss_nolay, loss_lay, loss_red, loss_reg],\n",
        "    'Test Accuracy': [accuracy_nolay, accuracy_lay, accuracy_red, accuracy_reg]\n",
        "}\n",
        "\n",
        "# create DataFrame for eval results\n",
        "eval_df = pd.DataFrame(eval_results)\n",
        "\n",
        "# Display the table\n",
        "print(eval_df)\n"
      ]
    },
    {
      "cell_type": "code",
      "source": [
        "# model eval values for REBALANCED models\n",
        "eval_results_rebal = {\n",
        "    'Model': ['Model_nolay_rebal', 'Model_lay_rebal', 'Model_red_rebal', 'Model_reg_rebal'],\n",
        "    'Test Loss': [loss_nolay_rebal, loss_lay_rebal, loss_red_rebal, loss_reg_rebal],\n",
        "    'Test Accuracy': [accuracy_nolay_rebal, accuracy_lay_rebal, accuracy_red_rebal, accuracy_reg_rebal]\n",
        "}\n",
        "\n",
        "# create DataFrame for eval results\n",
        "eval_df_rebal = pd.DataFrame(eval_results_rebal)\n",
        "\n",
        "# Display the table\n",
        "print(eval_df_rebal)"
      ],
      "metadata": {
        "id": "ni5O2jaIbGHz"
      },
      "execution_count": null,
      "outputs": []
    },
    {
      "cell_type": "markdown",
      "source": [
        "##### 4.3.2 Precision Scores"
      ],
      "metadata": {
        "id": "wRQMpPMPd9_Z"
      }
    },
    {
      "cell_type": "code",
      "source": [
        " # create precision scores for NON-REBALANCED models\n",
        "models = [model_nolay, model_lay, model_red, model_reg]\n",
        "model_names = ['model_nolay', 'model_lay', 'model_red', 'model_reg']\n",
        "\n",
        "precision_scores = {}\n",
        "\n",
        "for model, name in zip(models, model_names):\n",
        "    # Predict probabilities for test set\n",
        "    y_probs = model.predict(X_test)\n",
        "\n",
        "    # Convert probabilities to binary predictions (0 or 1) using a threshold (e.g., 0.5)\n",
        "    y_pred = np.round(y_probs)\n",
        "\n",
        "    # Calculate precision score\n",
        "    precision = precision_score(y_test, y_pred, average=None)\n",
        "\n",
        "    # Store precision scores in the dictionary with titles\n",
        "    precision_scores[name] = {\n",
        "        \"Negative Class\": round(precision[0], 6),\n",
        "        \"Positive Class\": round(precision[1], 6)\n",
        "    }\n",
        "\n",
        "# Print precision scores for each model along with titles for each class\n",
        "for name, scores in precision_scores.items():\n",
        "    print(f\"Precision scores for {name}:\")\n",
        "    print(f\"  Negative Class: {scores['Negative Class']}\")\n",
        "    print(f\"  Positive Class: {scores['Positive Class']}\")"
      ],
      "metadata": {
        "id": "dF8CTOw2eBt8"
      },
      "execution_count": null,
      "outputs": []
    },
    {
      "cell_type": "code",
      "source": [
        " # create precision scores for REBALANCED models\n",
        "models_rebal = [model_nolay_rebal, model_lay_rebal, model_red_rebal, model_reg_rebal]\n",
        "model_names_rebal = ['model_nolay_rebal', 'model_lay_rebal', 'model_red_rebal', 'model_reg_rebal']\n",
        "\n",
        "precision_scores_rebal = {}\n",
        "\n",
        "for model, name in zip(models_rebal, model_names_rebal):\n",
        "    # Predict probabilities for test set\n",
        "    y_probs_rebal = model.predict(X_test_rebal)\n",
        "\n",
        "    # Convert probabilities to binary predictions (0 or 1) using a threshold (e.g., 0.5)\n",
        "    y_pred_rebal = np.round(y_probs_rebal)\n",
        "\n",
        "    # Calculate precision score\n",
        "    precision_rebal = precision_score(y_test_rebal, y_pred_rebal, average=None)\n",
        "\n",
        "    # Store precision scores in the dictionary with titles\n",
        "    precision_scores_rebal[name] = {\n",
        "        \"Negative Class\": round(precision_rebal[0], 6),\n",
        "        \"Positive Class\": round(precision_rebal[1], 6)\n",
        "    }\n",
        "\n",
        "# Print precision scores for each model along with titles for each class\n",
        "for name, scores in precision_scores_rebal.items():\n",
        "    print(f\"Precision scores for {name}:\")\n",
        "    print(f\"  Negative Class: {scores['Negative Class']}\")\n",
        "    print(f\"  Positive Class: {scores['Positive Class']}\")"
      ],
      "metadata": {
        "id": "Qy0XQQdJmQyE"
      },
      "execution_count": null,
      "outputs": []
    },
    {
      "cell_type": "markdown",
      "source": [
        "##### 4.3.3 Recall Scores"
      ],
      "metadata": {
        "id": "U2SlGhYQnAZx"
      }
    },
    {
      "cell_type": "code",
      "source": [
        " # create recall scores for NON-REBALANCED models\n",
        "models = [model_nolay, model_lay, model_red, model_reg]\n",
        "model_names = ['model_nolay', 'model_lay', 'model_red', 'model_reg']\n",
        "\n",
        "recall_scores = {}\n",
        "\n",
        "for model, name in zip(models, model_names):\n",
        "    # Predict probabilities for test set\n",
        "    y_probs = model.predict(X_test)\n",
        "\n",
        "    # Convert probabilities to binary predictions (0 or 1) using a threshold (e.g., 0.5)\n",
        "    y_pred = np.round(y_probs)\n",
        "\n",
        "    # Calculate recall score\n",
        "    recall = recall_score(y_test, y_pred, average=None)\n",
        "\n",
        "    # Store recall scores in the dictionary with titles\n",
        "    recall_scores[name] = {\n",
        "        \"Negative Class\": round(recall[0], 6),\n",
        "        \"Positive Class\": round(recall[1], 6)\n",
        "    }\n",
        "\n",
        "# Print recall scores for each model along with titles for each class\n",
        "for name, scores in recall_scores.items():\n",
        "    print(f\"Recall scores for {name}:\")\n",
        "    print(f\"  Negative Class: {scores['Negative Class']}\")\n",
        "    print(f\"  Positive Class: {scores['Positive Class']}\")"
      ],
      "metadata": {
        "id": "sh_Ilg6Hm_lU"
      },
      "execution_count": null,
      "outputs": []
    },
    {
      "cell_type": "code",
      "source": [
        " # create recall scores for REBALANCED models\n",
        "models_rebal = [model_nolay_rebal, model_lay_rebal, model_red_rebal, model_reg_rebal]\n",
        "model_names_rebal = ['model_nolay_rebal', 'model_lay_rebal', 'model_red_rebal', 'model_reg_rebal']\n",
        "\n",
        "recall_scores_rebal = {}\n",
        "\n",
        "for model, name in zip(models_rebal, model_names_rebal):\n",
        "    # Predict probabilities for test set\n",
        "    y_probs_rebal = model.predict(X_test_rebal)\n",
        "\n",
        "    # Convert probabilities to binary predictions (0 or 1) using a threshold (e.g., 0.5)\n",
        "    y_pred_rebal = np.round(y_probs_rebal)\n",
        "\n",
        "    # Calculate recall score\n",
        "    recall_rebal = recall_score(y_test_rebal, y_pred_rebal, average=None)\n",
        "\n",
        "    # Store recall scores in the dictionary with titles\n",
        "    recall_scores_rebal[name] = {\n",
        "        \"Negative Class\": round(recall_rebal[0], 6),\n",
        "        \"Positive Class\": round(recall_rebal[1], 6)\n",
        "    }\n",
        "\n",
        "# Print recall scores for each model along with titles for each class\n",
        "for name, scores in recall_scores_rebal.items():\n",
        "    print(f\"Recall scores for {name}:\")\n",
        "    print(f\"  Negative Class: {scores['Negative Class']}\")\n",
        "    print(f\"  Positive Class: {scores['Positive Class']}\")"
      ],
      "metadata": {
        "id": "hXSoUFhjnwAH"
      },
      "execution_count": null,
      "outputs": []
    },
    {
      "cell_type": "markdown",
      "source": [
        "##### 4.3.4 F1 Scores"
      ],
      "metadata": {
        "id": "1v-b21kAoOb5"
      }
    },
    {
      "cell_type": "code",
      "source": [
        " # create F1 scores for NON-REBALANCED models\n",
        "models = [model_nolay, model_lay, model_red, model_reg]\n",
        "model_names = ['model_nolay', 'model_lay', 'model_red', 'model_reg']\n",
        "\n",
        "F1_scores = {}\n",
        "\n",
        "for model, name in zip(models, model_names):\n",
        "    # Predict probabilities for test set\n",
        "    y_probs = model.predict(X_test)\n",
        "\n",
        "    # Convert probabilities to binary predictions (0 or 1) using a threshold (e.g., 0.5)\n",
        "    y_pred = np.round(y_probs)\n",
        "\n",
        "    # Calculate F1 score\n",
        "    F1 = f1_score(y_test, y_pred, average=None)\n",
        "\n",
        "    # Store F1 scores in the dictionary with titles\n",
        "    F1_scores[name] = {\n",
        "        \"Negative Class\": round(F1[0], 6),\n",
        "        \"Positive Class\": round(F1[1], 6)\n",
        "    }\n",
        "\n",
        "# Print F1 scores for each model along with titles for each class\n",
        "for name, scores in F1_scores.items():\n",
        "    print(f\"F1 scores for {name}:\")\n",
        "    print(f\"  Negative Class: {scores['Negative Class']}\")\n",
        "    print(f\"  Positive Class: {scores['Positive Class']}\")"
      ],
      "metadata": {
        "id": "P6Fdv7_MoQJY"
      },
      "execution_count": null,
      "outputs": []
    },
    {
      "cell_type": "code",
      "source": [
        " # create F1 scores for REBALANCED models\n",
        "models_rebal = [model_nolay_rebal, model_lay_rebal, model_red_rebal, model_reg_rebal]\n",
        "model_names_rebal = ['model_nolay_rebal', 'model_lay_rebal', 'model_red_rebal', 'model_reg_rebal']\n",
        "\n",
        "F1_scores_rebal = {}\n",
        "\n",
        "for model, name in zip(models_rebal, model_names_rebal):\n",
        "    # Predict probabilities for test set\n",
        "    y_probs_rebal = model.predict(X_test_rebal)\n",
        "\n",
        "    # Convert probabilities to binary predictions (0 or 1) using a threshold (e.g., 0.5)\n",
        "    y_pred_rebal = np.round(y_probs_rebal)\n",
        "\n",
        "    # Calculate F1 score\n",
        "    F1_rebal = f1_score(y_test_rebal, y_pred_rebal, average=None)\n",
        "\n",
        "    # Store F1 scores in the dictionary with titles\n",
        "    F1_scores_rebal[name] = {\n",
        "        \"Negative Class\": round(F1_rebal[0], 6),\n",
        "        \"Positive Class\": round(F1_rebal[1], 6)\n",
        "    }\n",
        "\n",
        "# Print F1 scores for each model along with titles for each class\n",
        "for name, scores in F1_scores_rebal.items():\n",
        "    print(f\"F1 scores for {name}:\")\n",
        "    print(f\"  Negative Class: {scores['Negative Class']}\")\n",
        "    print(f\"  Positive Class: {scores['Positive Class']}\")"
      ],
      "metadata": {
        "id": "Yp2EjEg3o2rt"
      },
      "execution_count": null,
      "outputs": []
    },
    {
      "cell_type": "markdown",
      "source": [
        "#### 4.4 AUC-ROC Curves"
      ],
      "metadata": {
        "id": "y8rr1GXopx_p"
      }
    },
    {
      "cell_type": "code",
      "source": [
        " # calculate and visualize AUC-ROC curve for NON-REBALANCED models\n",
        "models = [model_nolay, model_lay, model_red, model_reg]\n",
        "model_names = ['model_nolay', 'model_lay', 'model_red', 'model_reg']\n",
        "\n",
        "# Plot ROC curve for each model\n",
        "plt.figure(figsize=(8, 6))\n",
        "\n",
        "for model, name in zip(models, model_names):\n",
        "    # Get model predictions\n",
        "    y_probs = model.predict(X_test)\n",
        "\n",
        "    # Ensure y_probs is a 1D array (squeeze it if necessary)\n",
        "    y_probs = np.squeeze(y_probs)\n",
        "\n",
        "    # Calculate AUC score\n",
        "    auc_score = roc_auc_score(y_test, y_probs)\n",
        "\n",
        "    # Calculate ROC curve\n",
        "    fpr, tpr, thresholds = roc_curve(y_test, y_probs)\n",
        "\n",
        "    # Plot ROC curve\n",
        "    plt.plot(fpr, tpr, label=f\"{name} (AUC = {round(auc_score, 6)})\")\n",
        "\n",
        "# Plot the diagonal line representing random guessing\n",
        "plt.plot([0, 1], [0, 1], 'k--', label='Random Guessing')\n",
        "\n",
        "plt.xlabel('False Positive Rate (FPR)')\n",
        "plt.ylabel('True Positive Rate (TPR)')\n",
        "plt.title('Receiver Operating Characteristic (ROC) Curve')\n",
        "plt.legend()\n",
        "plt.grid(True)\n",
        "plt.show()"
      ],
      "metadata": {
        "id": "bIVQHl6Ep1Ju"
      },
      "execution_count": null,
      "outputs": []
    },
    {
      "cell_type": "code",
      "source": [
        " # calculate and visualize AUC-ROC curve for REBALANCED models\n",
        "models_rebal = [model_nolay_rebal, model_lay_rebal, model_red_rebal, model_reg_rebal]\n",
        "model_names_rebal = ['model_nolay_rebal', 'model_lay_rebal', 'model_red_rebal', 'model_reg_rebal']\n",
        "\n",
        "# Plot ROC curve for each model\n",
        "plt.figure(figsize=(8, 6))\n",
        "\n",
        "for model, name in zip(models_rebal, model_names_rebal):\n",
        "    # Get model predictions\n",
        "    y_probs_rebal = model.predict(X_test_rebal)\n",
        "\n",
        "    # Ensure y_probs is a 1D array (squeeze it if necessary)\n",
        "    y_probs_rebal = np.squeeze(y_probs_rebal)\n",
        "\n",
        "    # Calculate AUC score\n",
        "    auc_score = roc_auc_score(y_test_rebal, y_probs_rebal)\n",
        "\n",
        "    # Calculate ROC curve\n",
        "    fpr, tpr, thresholds = roc_curve(y_test_rebal, y_probs_rebal)\n",
        "\n",
        "    # Plot ROC curve\n",
        "    plt.plot(fpr, tpr, label=f\"{name} (AUC = {round(auc_score, 6)})\")\n",
        "\n",
        "# Plot the diagonal line representing random guessing\n",
        "plt.plot([0, 1], [0, 1], 'k--', label='Random Guessing')\n",
        "\n",
        "plt.xlabel('False Positive Rate (FPR)')\n",
        "plt.ylabel('True Positive Rate (TPR)')\n",
        "plt.title('Receiver Operating Characteristic (ROC) Curve')\n",
        "plt.legend()\n",
        "plt.grid(True)\n",
        "plt.show()"
      ],
      "metadata": {
        "id": "vlWXgqV3sd0B"
      },
      "execution_count": null,
      "outputs": []
    }
  ],
  "metadata": {
    "colab": {
      "provenance": [],
      "collapsed_sections": [
        "RgYd-UXNv37l",
        "0bqqy_OwqZP6",
        "C1n3snrZSB_6",
        "2OGxXSt0JIKo",
        "ho6Qe7UwE2rD",
        "QMmDdSZoE8KU",
        "CTL5LSv9KYFv",
        "XHuW4oapV5Or",
        "XNGHoOTCWgrJ",
        "SS2lv7UMYA03",
        "f7bf3JFoY97f",
        "NW2ws0e3ZwOR",
        "HaPH1ZdoNhMK",
        "O27MCac8dOF6",
        "wRQMpPMPd9_Z",
        "U2SlGhYQnAZx",
        "1v-b21kAoOb5",
        "y8rr1GXopx_p"
      ],
      "machine_shape": "hm",
      "include_colab_link": true
    },
    "kernelspec": {
      "display_name": "Python 3 (ipykernel)",
      "language": "python",
      "name": "python3"
    },
    "language_info": {
      "codemirror_mode": {
        "name": "ipython",
        "version": 3
      },
      "file_extension": ".py",
      "mimetype": "text/x-python",
      "name": "python",
      "nbconvert_exporter": "python",
      "pygments_lexer": "ipython3",
      "version": "3.11.4"
    }
  },
  "nbformat": 4,
  "nbformat_minor": 0
}